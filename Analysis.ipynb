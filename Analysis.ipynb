{
 "cells": [
  {
   "cell_type": "code",
   "execution_count": 2,
   "metadata": {},
   "outputs": [
    {
     "data": {
      "text/plain": [
       "DataTransformerRegistry.enable('default')"
      ]
     },
     "execution_count": 2,
     "metadata": {},
     "output_type": "execute_result"
    }
   ],
   "source": [
    "import pandas as pd\n",
    "import numpy as np\n",
    "import sqlite3\n",
    "import altair as alt\n",
    "import matplotlib.pyplot as plt\n",
    "\n",
    "alt.data_transformers.disable_max_rows()"
   ]
  },
  {
   "cell_type": "code",
   "execution_count": 3,
   "metadata": {},
   "outputs": [
    {
     "name": "stderr",
     "output_type": "stream",
     "text": [
      "C:\\Users\\seamu\\AppData\\Local\\Temp\\ipykernel_22800\\3209997596.py:9: UserWarning: Could not infer format, so each element will be parsed individually, falling back to `dateutil`. To ensure parsing is consistent and as-expected, please specify a format.\n",
      "  df[\"hour\"] = pd.to_datetime(df[\"collision_time\"]).dt.hour\n"
     ]
    }
   ],
   "source": [
    "con = sqlite3.connect(\"switrs.sqlite\")\n",
    "\n",
    "query = \"\"\"\n",
    "    SELECT * FROM collisions WHERE county_location = 'los angeles'\n",
    "    \"\"\"\n",
    "\n",
    "df = pd.read_sql_query(query, con, parse_dates = [\"collision_date\"])\n",
    "df[\"year\"] = df[\"collision_date\"].dt.year\n",
    "df[\"hour\"] = pd.to_datetime(df[\"collision_time\"]).dt.hour\n",
    "df = df.query(\"year < 2021\") # remove incomplete 2021 data\n",
    "df[\"alcohol_involved\"] = df[\"alcohol_involved\"].fillna(0) # convert NaN to 0 in alcohol use column\n",
    "\n",
    "dfc = df[[\"case_id\", \"county_location\", \"alcohol_involved\", \"collision_severity\", \"injured_victims\", \"collision_date\", \"year\", \"collision_time\", \"hour\", \"party_count\"]]"
   ]
  },
  {
   "cell_type": "markdown",
   "metadata": {},
   "source": [
    "#### Distribution of the proportion of crashes involving alcohol by time of day"
   ]
  },
  {
   "cell_type": "code",
   "execution_count": 25,
   "metadata": {},
   "outputs": [
    {
     "name": "stdout",
     "output_type": "stream",
     "text": [
      "{16: '8am', 17: '9am', 18: '10am', 19: '11am', 20: '12pm', 21: '1pm', 22: '2pm', 23: '3pm', 0: '4pm', 1: '5pm', 2: '6pm', 3: '7pm', 4: '8pm', 5: '9pm', 6: '10pm', 7: '11pm', 8: '12am', 9: '1am', 10: '2am', 11: '3am', 12: '4am', 13: '5am', 14: '6am', 15: '7am'}\n"
     ]
    },
    {
     "data": {
      "text/html": [
       "\n",
       "<style>\n",
       "  #altair-viz-c2c62a89d56d42038e97116c623246f8.vega-embed {\n",
       "    width: 100%;\n",
       "    display: flex;\n",
       "  }\n",
       "\n",
       "  #altair-viz-c2c62a89d56d42038e97116c623246f8.vega-embed details,\n",
       "  #altair-viz-c2c62a89d56d42038e97116c623246f8.vega-embed details summary {\n",
       "    position: relative;\n",
       "  }\n",
       "</style>\n",
       "<div id=\"altair-viz-c2c62a89d56d42038e97116c623246f8\"></div>\n",
       "<script type=\"text/javascript\">\n",
       "  var VEGA_DEBUG = (typeof VEGA_DEBUG == \"undefined\") ? {} : VEGA_DEBUG;\n",
       "  (function(spec, embedOpt){\n",
       "    let outputDiv = document.currentScript.previousElementSibling;\n",
       "    if (outputDiv.id !== \"altair-viz-c2c62a89d56d42038e97116c623246f8\") {\n",
       "      outputDiv = document.getElementById(\"altair-viz-c2c62a89d56d42038e97116c623246f8\");\n",
       "    }\n",
       "\n",
       "    const paths = {\n",
       "      \"vega\": \"https://cdn.jsdelivr.net/npm/vega@5?noext\",\n",
       "      \"vega-lib\": \"https://cdn.jsdelivr.net/npm/vega-lib?noext\",\n",
       "      \"vega-lite\": \"https://cdn.jsdelivr.net/npm/vega-lite@5.20.1?noext\",\n",
       "      \"vega-embed\": \"https://cdn.jsdelivr.net/npm/vega-embed@6?noext\",\n",
       "    };\n",
       "\n",
       "    function maybeLoadScript(lib, version) {\n",
       "      var key = `${lib.replace(\"-\", \"\")}_version`;\n",
       "      return (VEGA_DEBUG[key] == version) ?\n",
       "        Promise.resolve(paths[lib]) :\n",
       "        new Promise(function(resolve, reject) {\n",
       "          var s = document.createElement('script');\n",
       "          document.getElementsByTagName(\"head\")[0].appendChild(s);\n",
       "          s.async = true;\n",
       "          s.onload = () => {\n",
       "            VEGA_DEBUG[key] = version;\n",
       "            return resolve(paths[lib]);\n",
       "          };\n",
       "          s.onerror = () => reject(`Error loading script: ${paths[lib]}`);\n",
       "          s.src = paths[lib];\n",
       "        });\n",
       "    }\n",
       "\n",
       "    function showError(err) {\n",
       "      outputDiv.innerHTML = `<div class=\"error\" style=\"color:red;\">${err}</div>`;\n",
       "      throw err;\n",
       "    }\n",
       "\n",
       "    function displayChart(vegaEmbed) {\n",
       "      vegaEmbed(outputDiv, spec, embedOpt)\n",
       "        .catch(err => showError(`Javascript Error: ${err.message}<br>This usually means there's a typo in your chart specification. See the javascript console for the full traceback.`));\n",
       "    }\n",
       "\n",
       "    if(typeof define === \"function\" && define.amd) {\n",
       "      requirejs.config({paths});\n",
       "      let deps = [\"vega-embed\"];\n",
       "      require(deps, displayChart, err => showError(`Error loading script: ${err.message}`));\n",
       "    } else {\n",
       "      maybeLoadScript(\"vega\", \"5\")\n",
       "        .then(() => maybeLoadScript(\"vega-lite\", \"5.20.1\"))\n",
       "        .then(() => maybeLoadScript(\"vega-embed\", \"6\"))\n",
       "        .catch(showError)\n",
       "        .then(() => displayChart(vegaEmbed));\n",
       "    }\n",
       "  })({\"config\": {\"view\": {\"continuousWidth\": 300, \"continuousHeight\": 300}}, \"data\": {\"name\": \"data-f764fa6592c0d2f466ed220de47a790c\"}, \"mark\": {\"type\": \"bar\", \"width\": 20}, \"encoding\": {\"x\": {\"axis\": {\"labelExpr\": \"{0: '8am', 1: '9am', 2: '10am', 3: '11am', 4: '12pm', 5: '1pm', 6: '2pm', 7: '3pm', 8: '4pm', 9: '5pm', 10: '6pm', 11: '7pm', 12: '8pm', 13: '9pm', 14: '10pm', 15: '11pm', 16: '12am', 17: '1am', 18: '2am', 19: '3am', 20: '4am', 21: '5am', 22: '6am', 23: '7am'}[datum.value]\"}, \"field\": \"adj_hour\", \"scale\": {\"domain\": [-0.5, 23.5]}, \"title\": \"Hour of day (adjusted, 0 = 8:00 am)\", \"type\": \"quantitative\"}, \"y\": {\"field\": \"p\", \"title\": \"Proportion of accidents with alcohol involved\", \"type\": \"quantitative\"}}, \"height\": 200, \"width\": 600, \"$schema\": \"https://vega.github.io/schema/vega-lite/v5.20.1.json\", \"datasets\": {\"data-f764fa6592c0d2f466ed220de47a790c\": [{\"hour\": 0, \"alc\": 17197, \"nalc\": 40066, \"p\": 0.42921679229271703, \"adj_hour\": 16, \"adj_label\": \"8am\"}, {\"hour\": 1, \"alc\": 19687, \"nalc\": 35764, \"p\": 0.5504697461134102, \"adj_hour\": 17, \"adj_label\": \"9am\"}, {\"hour\": 2, \"alc\": 22849, \"nalc\": 36421, \"p\": 0.6273578430026633, \"adj_hour\": 18, \"adj_label\": \"10am\"}, {\"hour\": 3, \"alc\": 12760, \"nalc\": 26364, \"p\": 0.4839933242300106, \"adj_hour\": 19, \"adj_label\": \"11am\"}, {\"hour\": 4, \"alc\": 7295, \"nalc\": 24769, \"p\": 0.29452137752836205, \"adj_hour\": 20, \"adj_label\": \"12pm\"}, {\"hour\": 5, \"alc\": 4400, \"nalc\": 39950, \"p\": 0.11013767209011265, \"adj_hour\": 21, \"adj_label\": \"1pm\"}, {\"hour\": 6, \"alc\": 3307, \"nalc\": 68407, \"p\": 0.048343005832736416, \"adj_hour\": 22, \"adj_label\": \"2pm\"}, {\"hour\": 7, \"alc\": 3348, \"nalc\": 139197, \"p\": 0.024052242505226407, \"adj_hour\": 23, \"adj_label\": \"3pm\"}, {\"hour\": 8, \"alc\": 2975, \"nalc\": 146728, \"p\": 0.02027561201679298, \"adj_hour\": 0, \"adj_label\": \"4pm\"}, {\"hour\": 9, \"alc\": 2617, \"nalc\": 121141, \"p\": 0.021602925516546835, \"adj_hour\": 1, \"adj_label\": \"5pm\"}, {\"hour\": 10, \"alc\": 2921, \"nalc\": 121368, \"p\": 0.024067299452903566, \"adj_hour\": 2, \"adj_label\": \"6pm\"}, {\"hour\": 11, \"alc\": 3383, \"nalc\": 131601, \"p\": 0.02570649159200918, \"adj_hour\": 3, \"adj_label\": \"7pm\"}, {\"hour\": 12, \"alc\": 4046, \"nalc\": 149161, \"p\": 0.02712505279530172, \"adj_hour\": 4, \"adj_label\": \"8pm\"}, {\"hour\": 13, \"alc\": 4651, \"nalc\": 153046, \"p\": 0.030389556081178208, \"adj_hour\": 5, \"adj_label\": \"9pm\"}, {\"hour\": 14, \"alc\": 5774, \"nalc\": 170745, \"p\": 0.033816510000292836, \"adj_hour\": 6, \"adj_label\": \"10pm\"}, {\"hour\": 15, \"alc\": 7245, \"nalc\": 193623, \"p\": 0.03741807533195953, \"adj_hour\": 7, \"adj_label\": \"11pm\"}, {\"hour\": 16, \"alc\": 8547, \"nalc\": 181164, \"p\": 0.0471782473339074, \"adj_hour\": 8, \"adj_label\": \"12am\"}, {\"hour\": 17, \"alc\": 11125, \"nalc\": 192442, \"p\": 0.05780962575737105, \"adj_hour\": 9, \"adj_label\": \"1am\"}, {\"hour\": 18, \"alc\": 13272, \"nalc\": 168903, \"p\": 0.07857764515727962, \"adj_hour\": 10, \"adj_label\": \"2am\"}, {\"hour\": 19, \"alc\": 13797, \"nalc\": 120949, \"p\": 0.11407287369056379, \"adj_hour\": 11, \"adj_label\": \"3am\"}, {\"hour\": 20, \"alc\": 15393, \"nalc\": 91004, \"p\": 0.1691464111467628, \"adj_hour\": 12, \"adj_label\": \"4am\"}, {\"hour\": 21, \"alc\": 16587, \"nalc\": 80066, \"p\": 0.20716658756525866, \"adj_hour\": 13, \"adj_label\": \"5am\"}, {\"hour\": 22, \"alc\": 17681, \"nalc\": 68352, \"p\": 0.2586756788389513, \"adj_hour\": 14, \"adj_label\": \"6am\"}, {\"hour\": 23, \"alc\": 17754, \"nalc\": 55383, \"p\": 0.320567683224094, \"adj_hour\": 15, \"adj_label\": \"7am\"}]}}, {\"mode\": \"vega-lite\"});\n",
       "</script>"
      ],
      "text/plain": [
       "alt.Chart(...)"
      ]
     },
     "metadata": {},
     "output_type": "display_data"
    }
   ],
   "source": [
    "# We will attempt to use multiple models to fit this distribution. We will use polynomial splines and B-splines but it appears a skewed-normal may be a possible fit as well.\n",
    "\n",
    "dftod = pd.DataFrame()\n",
    "\n",
    "dftod[\"hour\"] = range(0, 24)\n",
    "\n",
    "dftod[\"alc\"] = dfc.query(\"alcohol_involved == 1\").groupby(\"hour\")[\"case_id\"].count()\n",
    "dftod[\"nalc\"] = dfc.query(\"alcohol_involved == 0\").groupby(\"hour\")[\"case_id\"].count()\n",
    "dftod[\"p\"] = dftod[\"alc\"] / dftod[\"nalc\"]\n",
    "\n",
    "dftod[\"adj_hour\"] = [16, 17, 18, 19, 20, 21, 22, 23, 0, 1, 2, 3, 4, 5, 6, 7, 8, 9, 10, 11, 12, 13, 14, 15]\n",
    "dftod[\"adj_label\"] = [\"8am\", \"9am\", \"10am\", \"11am\", \"12pm\", \"1pm\", \"2pm\", \"3pm\", \"4pm\", \"5pm\", \"6pm\", \"7pm\", \"8pm\", \"9pm\", \"10pm\", \"11pm\", \"12am\", \"1am\", \"2am\", \"3am\", \"4am\", \"5am\", \"6am\", \"7am\"]\n",
    "adj_labels = dict(zip(dftod[\"adj_hour\"], dftod[\"adj_label\"]))\n",
    "print(adj_labels)\n",
    "\n",
    "palc_base = alt.Chart(dftod).mark_bar(width = 20).encode(\n",
    "    x = alt.X(\"adj_hour\", title = \"Hour of day (adjusted, 0 = 8:00 am)\", scale = alt.Scale(domain = [-0.5, 23.5]),\n",
    "               axis = alt.Axis(labelExpr = \"{0: '8am', 1: '9am', 2: '10am', 3: '11am', 4: '12pm', 5: '1pm', 6: '2pm', 7: '3pm', 8: '4pm', 9: '5pm', 10: '6pm', 11: '7pm', 12: '8pm', 13: '9pm', 14: '10pm', 15: '11pm', 16: '12am', 17: '1am', 18: '2am', 19: '3am', 20: '4am', 21: '5am', 22: '6am', 23: '7am'}[datum.value]\")),\n",
    "    y = alt.Y(\"p\", title = \"Proportion of accidents with alcohol involved\")\n",
    ").properties(width = 600, height = 200)\n",
    "\n",
    "palc_base.display()"
   ]
  },
  {
   "cell_type": "code",
   "execution_count": null,
   "metadata": {},
   "outputs": [],
   "source": []
  },
  {
   "cell_type": "markdown",
   "metadata": {},
   "source": [
    "#### Distributions of the number of injuries per collision, alcohol vs. no alcohol"
   ]
  },
  {
   "cell_type": "code",
   "execution_count": null,
   "metadata": {},
   "outputs": [],
   "source": [
    "# These appear to follow exponential or Weibull distributions. We will determine which is the best fit and then compare to see if alcohol has an effect on the distribution."
   ]
  },
  {
   "cell_type": "markdown",
   "metadata": {},
   "source": [
    "#### Timeline for number of collisions"
   ]
  },
  {
   "cell_type": "code",
   "execution_count": null,
   "metadata": {},
   "outputs": [],
   "source": [
    "# train on up to 2019, predict 2020, compare to actual. This will be done using a time series model."
   ]
  },
  {
   "cell_type": "markdown",
   "metadata": {},
   "source": [
    "#### Timeline for number of collisions (alcohol vs no alcohol)"
   ]
  },
  {
   "cell_type": "code",
   "execution_count": null,
   "metadata": {},
   "outputs": [],
   "source": [
    "# trained on up to 2019, predicting 2020, but separating by alcohol vs. no alcohol and comparing to actuals. This will also be completed using a time series model"
   ]
  },
  {
   "cell_type": "markdown",
   "metadata": {},
   "source": [
    "#### Feature selection using LASSO on fitted GLM against several labels"
   ]
  },
  {
   "cell_type": "code",
   "execution_count": null,
   "metadata": {},
   "outputs": [],
   "source": []
  },
  {
   "cell_type": "markdown",
   "metadata": {},
   "source": [
    "#### Feature selection using Random Forest feature importance against several labels"
   ]
  },
  {
   "cell_type": "code",
   "execution_count": null,
   "metadata": {},
   "outputs": [],
   "source": []
  }
 ],
 "metadata": {
  "kernelspec": {
   "display_name": "base",
   "language": "python",
   "name": "python3"
  },
  "language_info": {
   "codemirror_mode": {
    "name": "ipython",
    "version": 3
   },
   "file_extension": ".py",
   "mimetype": "text/x-python",
   "name": "python",
   "nbconvert_exporter": "python",
   "pygments_lexer": "ipython3",
   "version": "3.12.3"
  }
 },
 "nbformat": 4,
 "nbformat_minor": 2
}
