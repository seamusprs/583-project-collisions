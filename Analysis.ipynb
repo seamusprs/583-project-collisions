{
 "cells": [
  {
   "cell_type": "code",
   "execution_count": 2,
   "metadata": {},
   "outputs": [
    {
     "data": {
      "text/plain": [
       "DataTransformerRegistry.enable('default')"
      ]
     },
     "execution_count": 2,
     "metadata": {},
     "output_type": "execute_result"
    }
   ],
   "source": [
    "import pandas as pd\n",
    "import numpy as np\n",
    "import sqlite3\n",
    "import altair as alt\n",
    "import matplotlib.pyplot as plt\n",
    "\n",
    "alt.data_transformers.disable_max_rows()"
   ]
  },
  {
   "cell_type": "code",
   "execution_count": 3,
   "metadata": {},
   "outputs": [],
   "source": [
    "con = sqlite3.connect(\"switrs.sqlite\")\n",
    "\n",
    "query = \"\"\"\n",
    "    SELECT * FROM collisions WHERE county_location = 'los angeles'\n",
    "    \"\"\"\n",
    "\n",
    "df = pd.read_sql_query(query, con, parse_dates = [\"collision_date\"])\n",
    "df[\"year\"] = df[\"collision_date\"].dt.year\n",
    "df = df.query(\"year < 2021\") # remove incomplete 2021 data\n",
    "df[\"alcohol_involved\"] = df[\"alcohol_involved\"].fillna(0) # convert NaN to 0 in alcohol use column\n",
    "\n",
    "dfc = df[[\"case_id\", \"county_location\", \"alcohol_involved\", \"collision_severity\", \"injured_victims\", \"collision_date\", \"year\", \"collision_time\", \"party_count\"]]"
   ]
  }
 ],
 "metadata": {
  "kernelspec": {
   "display_name": "base",
   "language": "python",
   "name": "python3"
  },
  "language_info": {
   "codemirror_mode": {
    "name": "ipython",
    "version": 3
   },
   "file_extension": ".py",
   "mimetype": "text/x-python",
   "name": "python",
   "nbconvert_exporter": "python",
   "pygments_lexer": "ipython3",
   "version": "3.12.3"
  }
 },
 "nbformat": 4,
 "nbformat_minor": 2
}
