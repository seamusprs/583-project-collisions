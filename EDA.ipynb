{
 "cells": [
  {
   "cell_type": "code",
   "execution_count": null,
   "metadata": {},
   "outputs": [],
   "source": [
    "import pandas as pd\n",
    "import numpy as np\n",
    "import sqlite3\n",
    "import altair as alt\n",
    "import scipy.interpolate as interpolate\n",
    "from scipy.stats import skewnorm\n",
    "from sklearn.model_selection import train_test_split\n",
    "from sklearn.metrics import mean_squared_error\n",
    "\n",
    "alt.data_transformers.disable_max_rows()"
   ]
  },
  {
   "cell_type": "code",
   "execution_count": null,
   "metadata": {},
   "outputs": [],
   "source": [
    "con = sqlite3.connect(\"switrs.sqlite\")\n",
    "\n",
    "query = \"\"\"\n",
    "    SELECT * FROM collisions WHERE county_location = 'los angeles'\n",
    "    \"\"\"\n",
    "\n",
    "df = pd.read_sql_query(query, con, parse_dates = [\"collision_date\"])\n",
    "\n",
    "dfc = df[[\"case_id\", \"county_location\", \"alcohol_involved\", \"collision_severity\", \"injured_victims\", \"collision_date\", \"collision_time\", \"party_count\"]]"
   ]
  },
  {
   "cell_type": "code",
   "execution_count": null,
   "metadata": {},
   "outputs": [],
   "source": [
    "dfi_la, dfi_sd = pd.DataFrame(), pd.DataFrame()\n",
    "\n",
    "dfi_la[\"count\"] = dfc.query(\"county_location == 'los angeles'\")[\"injured_victims\"].value_counts()\n",
    "dfi_la[\"logcount\"] = dfi_la[\"count\"].apply(lambda x: np.log(x))\n",
    "dfi_la[\"injured_victims\"] = dfc.query(\"county_location == 'los angeles'\")[\"injured_victims\"].value_counts().index\n",
    "dfi_la[\"county\"] = \"Los Angeles\"\n",
    "\n",
    "dfi_sd[\"count\"] = dfc.query(\"county_location == 'san diego'\")[\"injured_victims\"].value_counts()\n",
    "dfi_sd[\"logcount\"] = dfi_sd[\"count\"].apply(lambda x: np.log(x))\n",
    "dfi_sd[\"injured_victims\"] = dfc.query(\"county_location == 'san diego'\")[\"injured_victims\"].value_counts().index\n",
    "dfi_sd[\"county\"] = \"San Diego\"\n",
    "\n",
    "dfi = pd.concat([dfi_la, dfi_sd])\n",
    "\n",
    "injuries = alt.Chart(dfi).mark_bar(opacity = 0.75, width = 11).encode(\n",
    "    x = alt.X(\"injured_victims:Q\"),\n",
    "    y = alt.Y(\"count:Q\").stack(None).scale(type = \"log\"),\n",
    "    color = \"county\"\n",
    ").properties(width = 800, height = 300)\n",
    "\n",
    "(injuries).display()"
   ]
  },
  {
   "cell_type": "code",
   "execution_count": null,
   "metadata": {},
   "outputs": [],
   "source": [
    "# same as above but scaled to total accidents per county\n",
    "\n",
    "dfi_la, dfi_sd = pd.DataFrame(), pd.DataFrame()\n",
    "\n",
    "dfi_la[\"count\"] = dfc.query(\"county_location == 'los angeles'\")[\"injured_victims\"].value_counts()\n",
    "dfi_la[\"pcount\"] = dfi_la[\"count\"] / len(dfc.query(\"county_location == 'los angeles'\"))\n",
    "dfi_la[\"logpcount\"] = dfi_la[\"pcount\"].apply(lambda x: np.log(x))\n",
    "dfi_la[\"injured_victims\"] = dfc.query(\"county_location == 'los angeles'\")[\"injured_victims\"].value_counts().index\n",
    "dfi_la[\"county\"] = \"Los Angeles\"\n",
    "\n",
    "dfi_sd[\"count\"] = dfc.query(\"county_location == 'san diego'\")[\"injured_victims\"].value_counts()\n",
    "dfi_sd[\"pcount\"] = dfi_sd[\"count\"] / len(dfc.query(\"county_location == 'san diego'\"))\n",
    "dfi_sd[\"logpcount\"] = dfi_sd[\"pcount\"].apply(lambda x: np.log(x))\n",
    "dfi_sd[\"injured_victims\"] = dfc.query(\"county_location == 'san diego'\")[\"injured_victims\"].value_counts().index\n",
    "dfi_sd[\"county\"] = \"San Diego\"\n",
    "\n",
    "dfi = pd.concat([dfi_la, dfi_sd])\n",
    "\n",
    "injuries = alt.Chart(dfi).mark_bar(opacity = 0.75, width = 11).encode(\n",
    "    x = alt.X(\"injured_victims:Q\"),\n",
    "    y = alt.Y(\"pcount:Q\").stack(None).scale(type = \"log\"),\n",
    "    color = \"county\"\n",
    ").properties(width = 800, height = 300)\n",
    "\n",
    "(injuries).display()"
   ]
  },
  {
   "cell_type": "code",
   "execution_count": null,
   "metadata": {},
   "outputs": [],
   "source": [
    "# average injuries per collision for each county\n",
    "\n",
    "avgila = dfc.query(\"county_location == 'los angeles'\")[\"injured_victims\"].sum() / len(dfc.query(\"county_location == 'los angeles'\"))\n",
    "avgisd = dfc.query(\"county_location == 'san diego'\")[\"injured_victims\"].sum() / len(dfc.query(\"county_location == 'san diego'\"))\n",
    "\n",
    "print(avgila, avgisd)"
   ]
  },
  {
   "cell_type": "code",
   "execution_count": null,
   "metadata": {},
   "outputs": [],
   "source": [
    "# proportion of accidents with 0 injuries\n",
    "\n",
    "nipla = len(dfc.query(\"county_location == 'los angeles' & injured_victims == 0\")) / len(dfc.query(\"county_location == 'los angeles'\"))\n",
    "nipsd = len(dfc.query(\"county_location == 'san diego' & injured_victims == 0\")) / len(dfc.query(\"county_location == 'san diego'\"))\n",
    "\n",
    "print(nipla, nipsd)"
   ]
  },
  {
   "cell_type": "code",
   "execution_count": null,
   "metadata": {},
   "outputs": [],
   "source": [
    "dfy = dfc.copy()\n",
    "\n",
    "dfy[\"year\"] = dfy[\"collision_date\"].dt.year\n",
    "\n",
    "dfy_la, dfy_sd = pd.DataFrame(), pd.DataFrame()\n",
    "\n",
    "dfy_la[\"count\"] = dfy.query(\"county_location == 'los angeles'\").groupby(\"year\")[\"case_id\"].count() / len(dfy.query(\"county_location == 'los angeles'\"))\n",
    "dfy_la[\"county\"] = \"Los Angeles\"\n",
    "\n",
    "dfy_sd[\"count\"] = dfy.query(\"county_location == 'san diego'\").groupby(\"year\")[\"case_id\"].count() / len(dfy.query(\"county_location == 'san diego'\"))\n",
    "dfy_sd[\"county\"] = \"San Diego\"\n",
    "\n",
    "dfyp = pd.concat([dfy_la, dfy_sd]).reset_index().query(\"year != 2021\")\n",
    "\n",
    "dfyp_plot = alt.Chart(dfyp).mark_bar(opacity = 0.75, width = 36).encode(\n",
    "    x = alt.X(\"year:Q\"),\n",
    "    y = alt.Y(\"count:Q\").stack(None),\n",
    ").properties(width = 800, height = 300)\n",
    "\n",
    "dfyp_plot.display()"
   ]
  },
  {
   "cell_type": "code",
   "execution_count": null,
   "metadata": {},
   "outputs": [],
   "source": [
    "dfa = dfc.copy()\n",
    "dfa[\"year\"] = dfa[\"collision_date\"].dt.year\n",
    "dfa[\"alcohol_involved\"] = dfa[\"alcohol_involved\"].fillna(0)\n",
    "\n",
    "dfa_alc, dfa_nalc = pd.DataFrame(), pd.DataFrame()\n",
    "\n",
    "dfa_alc[\"count\"] = dfa.query(\"alcohol_involved == 1\").groupby(\"year\")[\"case_id\"].count() / len(dfa.query(\"alcohol_involved == 1\"))\n",
    "dfa_alc[\"alcohol\"] = True\n",
    "\n",
    "dfa_nalc[\"count\"] = dfa.query(\"alcohol_involved == 0\").groupby(\"year\")[\"case_id\"].count() / len(dfa.query(\"alcohol_involved != 1\"))\n",
    "dfa_nalc[\"alcohol\"] = False\n",
    "\n",
    "dfap = pd.concat([dfa_nalc, dfa_alc]).reset_index().query(\"year != 2021\")\n",
    "\n",
    "alt.Chart(dfap).mark_bar(opacity = 0.75, width = 28).encode(\n",
    "    x = alt.X(\"year:N\"),\n",
    "    y = alt.Y(\"count\", scale = alt.Scale(domain = [0.03, 0.06]), title = \"proportion of group\").stack(None),\n",
    "    color = \"alcohol\"\n",
    ").properties(width = 600, height = 200).display()"
   ]
  },
  {
   "cell_type": "code",
   "execution_count": null,
   "metadata": {},
   "outputs": [],
   "source": [
    "dfs = pd.DataFrame(index = [\"overall\", \"LA only\", \"SD only\", \"alcohol only\", \"no alcohol only\", \"2019 only\", \"2020 only\"], columns = [\"number of collisions\", \"number of injuries\", \"average injuries per collision\"])\n",
    "\n",
    "queries = [\"case_id == case_id\", \"county_location == 'los angeles'\", \"county_location == 'san diego'\", \"alcohol_involved == 1\", \"alcohol_involved != 1\", \"year == 2019\", \"year == 2020\"]\n",
    "\n",
    "dfs.loc[\"overall\", \"number of collisions\"] = len(dfy.query(\"case_id == case_id\")[\"case_id\"])\n",
    "\n",
    "dfs.index\n",
    "\n",
    "for i, row in enumerate(dfs.index):\n",
    "    dfs.loc[row, \"number of collisions\"] = len(dfy.query(queries[i])[\"case_id\"])\n",
    "    dfs.loc[row, \"number of injuries\"] = dfy.query(queries[i])[\"injured_victims\"].sum().astype(int)\n",
    "    dfs.loc[row, \"average injuries per collision\"] = dfs.loc[row, \"number of injuries\"] / dfs.loc[row, \"number of collisions\"]\n",
    "\n",
    "dfs"
   ]
  },
  {
   "cell_type": "code",
   "execution_count": null,
   "metadata": {},
   "outputs": [],
   "source": [
    "dfi_alc, dfi_nalc = pd.DataFrame(), pd.DataFrame()\n",
    "\n",
    "dfi_alc[\"count\"] = dfc.query(\"alcohol_involved == 1\")[\"injured_victims\"].value_counts()\n",
    "dfi_alc[\"pcount\"] = dfi_alc[\"count\"] / len(dfc.query(\"alcohol_involved == 1\")[\"case_id\"])\n",
    "dfi_alc[\"injured_victims\"] = dfc.query(\"alcohol_involved == 1\")[\"injured_victims\"].value_counts().index\n",
    "dfi_alc[\"alcohol\"] = True\n",
    "\n",
    "dfi_nalc[\"count\"] = dfc.query(\"alcohol_involved != 1\")[\"injured_victims\"].value_counts()\n",
    "dfi_nalc[\"pcount\"] = dfi_nalc[\"count\"] / len(dfc.query(\"alcohol_involved != 1\")[\"case_id\"])\n",
    "dfi_nalc[\"injured_victims\"] = dfc.query(\"alcohol_involved != 1\")[\"injured_victims\"].value_counts().index\n",
    "dfi_nalc[\"alcohol\"] = False\n",
    "\n",
    "dfia = pd.concat([dfi_nalc, dfi_alc])\n",
    "\n",
    "injuries_alc = alt.Chart(dfia).mark_bar(opacity = 0.75, width = 11).encode(\n",
    "    x = alt.X(\"injured_victims:Q\"),\n",
    "    y = alt.Y(\"count:Q\").stack(None).scale(type = \"log\"),\n",
    "    color = \"alcohol\"\n",
    ").properties(width = 800, height = 300)\n",
    "\n",
    "(injuries_alc).display()\n",
    "\n",
    "pinjuries_alc = alt.Chart(dfia).mark_bar(opacity = 0.75, width = 11).encode(\n",
    "    x = alt.X(\"injured_victims:Q\"),\n",
    "    y = alt.Y(\"pcount:Q\").stack(None).scale(type = \"log\"),\n",
    "    color = \"alcohol\"\n",
    ").properties(width = 800, height = 300)\n",
    "\n",
    "(pinjuries_alc).display()"
   ]
  },
  {
   "cell_type": "code",
   "execution_count": null,
   "metadata": {},
   "outputs": [],
   "source": [
    "all_predictors = pd.DataFrame(df.columns.values.reshape(15, 5))\n",
    "\n",
    "\n",
    "all_predictors"
   ]
  },
  {
   "cell_type": "code",
   "execution_count": null,
   "metadata": {},
   "outputs": [],
   "source": [
    "dfsev = df[[\"case_id\", \"county_location\", \"alcohol_involved\", \"collision_severity\", \"injured_victims\", \"collision_date\", \"collision_time\", \"party_count\"]]\n",
    "\n",
    "dfsev[\"inj_rat\"] = dfsev[\"injured_victims\"] / dfsev[\"party_count\"]"
   ]
  },
  {
   "cell_type": "code",
   "execution_count": null,
   "metadata": {},
   "outputs": [],
   "source": [
    "drop_predictors = pd.Series([\"collision_severity\", \"killed_victims\", \"injured_victims\", \"severe_injury_count\", \"other_visible_injury_count\", \"complaint_of_pain_injury_count\", \"pedestrian_killed_count\", \"pedestrian_injured_count\", \"bicyclist_killed_count\", \"bicyclist_injured_count\", \"motorcyclist_killed_count\", \"motorcyclist_injured_count\"])\n",
    "\n",
    "pd.DataFrame(drop_predictors.values.reshape(3, 4))"
   ]
  },
  {
   "cell_type": "code",
   "execution_count": null,
   "metadata": {},
   "outputs": [],
   "source": [
    "con = sqlite3.connect(\"switrs.sqlite\")\n",
    "\n",
    "query = \"\"\"\n",
    "    SELECT * FROM collisions WHERE county_location = 'los angeles'\n",
    "    \"\"\"\n",
    "\n",
    "dfl = pd.read_sql_query(query, con, parse_dates = [\"collision_date\"])"
   ]
  },
  {
   "cell_type": "code",
   "execution_count": null,
   "metadata": {},
   "outputs": [],
   "source": [
    "from sklearn.ensemble import RandomForestClassifier\n",
    "from sklearn.metrics import accuracy_score, confusion_matrix, ConfusionMatrixDisplay\n",
    "from sklearn.model_selection import RandomizedSearchCV, train_test_split\n",
    "\n",
    "y = dfl[\"collision_severity\"]\n",
    "X = dfl.drop(drop_predictors, axis = 1)\n",
    "\n",
    "X"
   ]
  },
  {
   "cell_type": "code",
   "execution_count": null,
   "metadata": {},
   "outputs": [],
   "source": [
    "X[\"alcohol_involved\"] = X[\"alcohol_involved\"].fillna(0)\n",
    "\n",
    "\n",
    "dfdt = pd.DataFrame()\n",
    "dfdt[\"predictor\"] = X.dtypes.index\n",
    "dfdt[\"\"]\n",
    "\n",
    "# rf = RandomForestClassifier()\n",
    "# rfc = rf.fit(X, y)"
   ]
  },
  {
   "cell_type": "code",
   "execution_count": null,
   "metadata": {},
   "outputs": [],
   "source": [
    "dfc[\"alcohol_involved\"] = dfc[\"alcohol_involved\"].fillna(0)\n",
    "dfc[\"hour\"] = pd.to_datetime(dfc[\"collision_time\"]).dt.hour\n",
    "\n",
    "dftod = pd.DataFrame()\n",
    "\n",
    "dftod[\"hour\"] = range(0, 24)\n",
    "\n",
    "dftod[\"alc\"] = dfc.query(\"alcohol_involved == 1\").groupby(\"hour\")[\"case_id\"].count()\n",
    "dftod[\"nalc\"] = dfc.query(\"alcohol_involved == 0\").groupby(\"hour\")[\"case_id\"].count()\n",
    "dftod[\"p\"] = dftod[\"alc\"] / dftod[\"nalc\"]\n",
    "\n",
    "dftod[\"adj_hour\"] = [16, 17, 18, 19, 20, 21, 22, 23, 0, 1, 2, 3, 4, 5, 6, 7, 8, 9, 10, 11, 12, 13, 14, 15]\n",
    "\n",
    "alt.Chart(dftod).mark_bar(width = 20).encode(\n",
    "    x = alt.X(\"adj_hour\", title = \"Hour of day (adjusted, 0 = 8:00 am)\", scale = alt.Scale(domain = [-0.5, 23.5])),\n",
    "    y = alt.Y(\"p\", title = \"Proportion of accidents with alcohol involved\")\n",
    ").properties(width = 600, height = 200).display()"
   ]
  },
  {
   "cell_type": "code",
   "execution_count": null,
   "metadata": {},
   "outputs": [],
   "source": [
    "(X.isna().sum() / X.isna().count()).sort_values()\n",
    "\n",
    "dfnan = pd.DataFrame()\n",
    "\n",
    "dfnan[\"predictor\"] = (X.isna().sum() / X.isna().count()).sort_values().index\n",
    "dfnan[\"p_nan\"] = (X.isna().sum() / X.isna().count()).sort_values().values"
   ]
  },
  {
   "cell_type": "code",
   "execution_count": null,
   "metadata": {},
   "outputs": [],
   "source": [
    "dfnan[dfnan[\"p_nan\"] > 0.20][:11]"
   ]
  },
  {
   "cell_type": "code",
   "execution_count": null,
   "metadata": {},
   "outputs": [],
   "source": [
    "dfnan[dfnan[\"p_nan\"] > 0.20][11:]"
   ]
  },
  {
   "cell_type": "code",
   "execution_count": null,
   "metadata": {},
   "outputs": [],
   "source": [
    "con = sqlite3.connect(\"switrs.sqlite\")\n",
    "\n",
    "query = \"\"\"\n",
    "    SELECT * FROM collisions WHERE county_location = 'los angeles'\n",
    "    \"\"\"\n",
    "\n",
    "df = pd.read_sql_query(query, con, parse_dates = [\"collision_date\"])\n",
    "df[\"year\"] = df[\"collision_date\"].dt.year\n",
    "df[\"hour\"] = pd.to_datetime(df[\"collision_time\"]).dt.hour\n",
    "df = df.query(\"year < 2021\") # remove incomplete 2021 data\n",
    "df[\"alcohol_involved\"] = df[\"alcohol_involved\"].fillna(0) # convert NaN to 0 in alcohol use column\n",
    "\n",
    "dfc = df[[\"case_id\", \"county_location\", \"alcohol_involved\", \"collision_severity\", \"injured_victims\", \"collision_date\", \"year\", \"collision_time\", \"hour\", \"party_count\"]]"
   ]
  },
  {
   "cell_type": "code",
   "execution_count": null,
   "metadata": {},
   "outputs": [],
   "source": [
    "# We will attempt to use multiple models to fit this distribution. We will use polynomial splines and B-splines but it appears a skewed-normal may be a possible fit as well.\n",
    "\n",
    "dfc_tr, dfc_te = train_test_split(dfc, test_size = 0.2, random_state = 13)\n",
    "\n",
    "# build training data frame\n",
    "dftod = pd.DataFrame()\n",
    "dftod[\"hour\"] = range(0, 24)\n",
    "dftod[\"alc\"] = dfc_tr.query(\"alcohol_involved == 1\").groupby(\"hour\")[\"case_id\"].count()\n",
    "dftod[\"nalc\"] = dfc_tr.query(\"alcohol_involved == 0\").groupby(\"hour\")[\"case_id\"].count()\n",
    "dftod[\"p\"] = dftod[\"alc\"] / dftod[\"nalc\"]\n",
    "dftod[\"adj_hour\"] = [16, 17, 18, 19, 20, 21, 22, 23, 0, 1, 2, 3, 4, 5, 6, 7, 8, 9, 10, 11, 12, 13, 14, 15]\n",
    "\n",
    "# build test data frame\n",
    "dftod_te = pd.DataFrame()\n",
    "dftod_te[\"hour\"] = range(0, 24)\n",
    "dftod_te[\"alc\"] = dfc_te.query(\"alcohol_involved == 1\").groupby(\"hour\")[\"case_id\"].count()\n",
    "dftod_te[\"nalc\"] = dfc_te.query(\"alcohol_involved == 0\").groupby(\"hour\")[\"case_id\"].count()\n",
    "dftod_te[\"p\"] = dftod_te[\"alc\"] / dftod_te[\"nalc\"]\n",
    "dftod_te[\"adj_hour\"] = [16, 17, 18, 19, 20, 21, 22, 23, 0, 1, 2, 3, 4, 5, 6, 7, 8, 9, 10, 11, 12, 13, 14, 15]\n",
    "\n",
    "# fit and scale skewnormal\n",
    "shape, loc, scale = skewnorm.fit(dftod[\"p\"])\n",
    "dftod[\"p_fit\"] = skewnorm.pdf(dftod[\"p\"], shape, loc, scale)\n",
    "# dftod[\"p_fit\"] = -dftod[\"p_fit\"] / max(dftod[\"p_fit\"]) * max(dftod[\"p\"]) + abs(max(dftod[\"p\"]) + min(dftod[\"p\"])) # scale\n",
    "\n",
    "# calculate error between fit on training data and test data\n",
    "dftod_rmse = mean_squared_error(dftod_te[\"p\"], dftod[\"p_fit\"])\n",
    "print(\"Root mean squared error: %.4f\" % (np.sqrt(dftod_rmse)))\n",
    "\n",
    "# plot fit against test data\n",
    "palc_base = alt.Chart(dftod_te).mark_bar(width = 20).encode(\n",
    "    x = alt.X(\"adj_hour\", title = \"Hour of day\", scale = alt.Scale(domain = [-0.5, 23.5]),\n",
    "               axis = alt.Axis(labelExpr = \"{0: '8am', 1: '9am', 2: '10am', 3: '11am', 4: '12pm', 5: '1pm', 6: '2pm', 7: '3pm', 8: '4pm', 9: '5pm', 10: '6pm', 11: '7pm', 12: '8pm', 13: '9pm', 14: '10pm', 15: '11pm', 16: '12am', 17: '1am', 18: '2am', 19: '3am', 20: '4am', 21: '5am', 22: '6am', 23: '7am'}[datum.value]\")),\n",
    "    y = alt.Y(\"p\", title = \"Proportion of accidents with alcohol involved\")\n",
    ").properties(width = 600, height = 200)\n",
    "\n",
    "palc_fit = alt.Chart(dftod).mark_line(color = \"red\").encode(\n",
    "    x = alt.X(\"adj_hour\", title = \"Hour of day\", scale = alt.Scale(domain = [-0.5, 23.5]),\n",
    "               axis = alt.Axis(labelExpr = \"{0: '8am', 1: '9am', 2: '10am', 3: '11am', 4: '12pm', 5: '1pm', 6: '2pm', 7: '3pm', 8: '4pm', 9: '5pm', 10: '6pm', 11: '7pm', 12: '8pm', 13: '9pm', 14: '10pm', 15: '11pm', 16: '12am', 17: '1am', 18: '2am', 19: '3am', 20: '4am', 21: '5am', 22: '6am', 23: '7am'}[datum.value]\")),\n",
    "    y = alt.Y(\"p_fit\", title = \"Proportion of accidents with alcohol involved\")\n",
    ").properties(width = 600, height = 200)\n",
    "\n",
    "(palc_base + palc_fit).display()"
   ]
  },
  {
   "cell_type": "code",
   "execution_count": null,
   "metadata": {},
   "outputs": [],
   "source": [
    "import statsmodels.api as sm\n",
    "\n",
    "X = sm.add_constant(dftod[\"adj_hour\"])\n",
    "y = dftod[\"p\"]\n",
    "model = sm.Logit(y, X).fit()\n",
    "dftod[\"p_fit\"] = model.predict(X)\n",
    "\n",
    "# plot fit against test data\n",
    "palc_base = alt.Chart(dftod_te).mark_bar(width = 20).encode(\n",
    "    x = alt.X(\"adj_hour\", title = \"Hour of day\", scale = alt.Scale(domain = [-0.5, 23.5]),\n",
    "               axis = alt.Axis(labelExpr = \"{0: '8am', 1: '9am', 2: '10am', 3: '11am', 4: '12pm', 5: '1pm', 6: '2pm', 7: '3pm', 8: '4pm', 9: '5pm', 10: '6pm', 11: '7pm', 12: '8pm', 13: '9pm', 14: '10pm', 15: '11pm', 16: '12am', 17: '1am', 18: '2am', 19: '3am', 20: '4am', 21: '5am', 22: '6am', 23: '7am'}[datum.value]\")),\n",
    "    y = alt.Y(\"p\", title = \"Proportion of accidents with alcohol involved\")\n",
    ").properties(width = 600, height = 200)\n",
    "\n",
    "palc_fit = alt.Chart(dftod).mark_line(color = \"red\").encode(\n",
    "    x = alt.X(\"adj_hour\", title = \"Hour of day\", scale = alt.Scale(domain = [-0.5, 23.5]),\n",
    "               axis = alt.Axis(labelExpr = \"{0: '8am', 1: '9am', 2: '10am', 3: '11am', 4: '12pm', 5: '1pm', 6: '2pm', 7: '3pm', 8: '4pm', 9: '5pm', 10: '6pm', 11: '7pm', 12: '8pm', 13: '9pm', 14: '10pm', 15: '11pm', 16: '12am', 17: '1am', 18: '2am', 19: '3am', 20: '4am', 21: '5am', 22: '6am', 23: '7am'}[datum.value]\")),\n",
    "    y = alt.Y(\"p_fit\", title = \"Proportion of accidents with alcohol involved\")\n",
    ").properties(width = 600, height = 200)\n",
    "\n",
    "(palc_base + palc_fit).display()"
   ]
  },
  {
   "cell_type": "code",
   "execution_count": null,
   "metadata": {},
   "outputs": [],
   "source": [
    "import numpy as np\n",
    "import pandas as pd\n",
    "import matplotlib.pyplot as plt\n",
    "import statsmodels.api as sm\n",
    "from statsmodels.gam.api import GLMGam, BSplines\n",
    "\n",
    "# Group by hour and compute probability of alcohol involvement\n",
    "hourly_data = dfc.groupby(\"hour\")[\"alcohol_involved\"].agg([\"mean\", \"count\"])\n",
    "hourly_data = hourly_data.reset_index()\n",
    "hourly_data[\"adj_hour\"] = [16, 17, 18, 19, 20, 21, 22, 23, 0, 1, 2, 3, 4, 5, 6, 7, 8, 9, 10, 11, 12, 13, 14, 15]\n",
    "\n",
    "# Prepare data\n",
    "X = [16, 17, 18, 19, 20, 21, 22, 23, 0, 1, 2, 3, 4, 5, 6, 7, 8, 9, 10, 11, 12, 13, 14, 15]\n",
    "y = hourly_data[\"mean\"].values  # Probability of alcohol involvement\n",
    "\n",
    "# Define B-Spline basis functions for smoothing\n",
    "splines = BSplines(X, df=[6], degree=[3])  # df=6 controls the flexibility of the spline\n",
    "\n",
    "# Fit the GAM model with binomial (logistic) link function\n",
    "gam = GLMGam(y, smoother=splines, family=sm.families.Binomial()).fit()\n",
    "\n",
    "# Generate new data for prediction\n",
    "hour_range = np.linspace(0, 23, 100).reshape(-1, 1)\n",
    "\n",
    "# Apply the same spline transformation to hour_range\n",
    "hour_range_spline = splines.transform(hour_range)\n",
    "\n",
    "# Predict probabilities\n",
    "predictions = gam.predict(exog_smooth=hour_range_spline)\n",
    "\n",
    "# Plot the results\n",
    "plt.figure(figsize=(10, 5))\n",
    "plt.scatter(hourly_data[\"adj_hour\"], hourly_data[\"mean\"], label=\"Observed Probabilities\", alpha=0.6)\n",
    "plt.plot(hour_range, predictions, color=\"red\", label=\"GLMGam Fit\")\n",
    "plt.xlabel(\"Hour of the Day\")\n",
    "plt.ylabel(\"P(Alcohol Involved = 1)\")\n",
    "plt.title(\"Probability of Alcohol Involvement by Hour of the Day (GLMGam)\")\n",
    "plt.legend()\n",
    "plt.grid()\n",
    "plt.show()"
   ]
  },
  {
   "cell_type": "code",
   "execution_count": null,
   "metadata": {},
   "outputs": [],
   "source": [
    "dfc.query(\"hour == 2\")[\"alcohol_involved\"].mean()"
   ]
  }
 ],
 "metadata": {
  "kernelspec": {
   "display_name": "base",
   "language": "python",
   "name": "python3"
  },
  "language_info": {
   "codemirror_mode": {
    "name": "ipython",
    "version": 3
   },
   "file_extension": ".py",
   "mimetype": "text/x-python",
   "name": "python",
   "nbconvert_exporter": "python",
   "pygments_lexer": "ipython3",
   "version": "3.12.3"
  }
 },
 "nbformat": 4,
 "nbformat_minor": 4
}
