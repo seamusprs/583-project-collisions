{
 "cells": [
  {
   "cell_type": "code",
   "execution_count": null,
   "id": "54732f2d-912d-472e-9866-7d68e5fda5f2",
   "metadata": {},
   "outputs": [],
   "source": [
    "Xoh = pd.get_dummies(X)  # One-hot encode categorical variables\n",
    "\n",
    "# Impute missing values with the mean of each column\n",
    "imputer = SimpleImputer(strategy='mean')\n",
    "\n",
    "# Fit the imputer to the data and transform it\n",
    "Xoh = imputer.fit_transform(Xoh)\n",
    "\n",
    "y = dfrf[\"injured_victims\"].fillna(0)  # Target variable\n",
    "\n",
    "# Split the data into training and testing sets\n",
    "X_tr, X_te, y_tr, y_te = train_test_split(Xoh, y, random_state=13)\n",
    "\n",
    "# Initialize the Lasso model (you can tune alpha parameter later)\n",
    "lasso = Lasso(alpha=0.1, random_state=13)\n",
    "\n",
    "# Fit the Lasso model\n",
    "lasso.fit(X_tr, y_tr)\n",
    "\n",
    "# Predict on the test set\n",
    "lasso_pred = lasso.predict(X_te)\n",
    "\n",
    "# Calculate and print RMSE\n",
    "rmse_lasso = np.sqrt(mean_squared_error(y_te, lasso_pred))\n",
    "print(f\"Lasso RMSE: {rmse_lasso:.3f}\")\n",
    "\n",
    "\n",
    "# Show the coefficients of the features to understand feature importance\n",
    "feature_importance_lasso = pd.DataFrame({\n",
    "    \"feature\": X_tr.columns,\n",
    "    \"coefficient\": lasso.coef_\n",
    "}).sort_values(\"coefficient\", ascending=False)\n",
    "\n",
    "print(\"Top Features (by absolute coefficient value):\")\n",
    "print(feature_importance_lasso.head(20))  # Display top 20 features by absolute coefficient value\n"
   ]
  }
 ],
 "metadata": {
  "kernelspec": {
   "display_name": "Python 3",
   "language": "python",
   "name": "python3"
  },
  "language_info": {
   "codemirror_mode": {
    "name": "ipython",
    "version": 3
   },
   "file_extension": ".py",
   "mimetype": "text/x-python",
   "name": "python",
   "nbconvert_exporter": "python",
   "pygments_lexer": "ipython3",
   "version": "3.11.11"
  }
 },
 "nbformat": 4,
 "nbformat_minor": 5
}
