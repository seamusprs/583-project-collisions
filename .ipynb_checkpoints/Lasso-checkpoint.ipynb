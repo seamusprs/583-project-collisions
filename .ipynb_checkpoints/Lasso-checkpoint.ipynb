{
 "cells": [
  {
   "cell_type": "code",
   "execution_count": 1,
   "id": "c7dc61a6-d9f0-4db9-afac-c04fa2678370",
   "metadata": {},
   "outputs": [
    {
     "data": {
      "text/plain": [
       "DataTransformerRegistry.enable('default')"
      ]
     },
     "execution_count": 1,
     "metadata": {},
     "output_type": "execute_result"
    }
   ],
   "source": [
    "import pandas as pd\n",
    "import numpy as np\n",
    "import sqlite3\n",
    "import altair as alt\n",
    "import scipy.interpolate as interpolate\n",
    "from scipy.stats import skewnorm\n",
    "from sklearn.linear_model import Lasso\n",
    "from sklearn.model_selection import train_test_split\n",
    "from sklearn.metrics import mean_squared_error, confusion_matrix, ConfusionMatrixDisplay\n",
    "import statsmodels.api as sm\n",
    "from sklearn.impute import SimpleImputer\n",
    "from sklearn.ensemble import RandomForestRegressor, RandomForestClassifier\n",
    "from sklearn.preprocessing import OneHotEncoder, OrdinalEncoder\n",
    "from scipy.stats import chi2\n",
    "\n",
    "alt.data_transformers.disable_max_rows()"
   ]
  },
  {
   "cell_type": "code",
   "execution_count": 3,
   "id": "fb64e4e2-89db-4b65-80ef-e55ccf7f7ee9",
   "metadata": {},
   "outputs": [
    {
     "name": "stderr",
     "output_type": "stream",
     "text": [
      "/var/folders/vm/ch_70xjd3t1_t3h7108v_7x80000gn/T/ipykernel_1287/2772648188.py:9: UserWarning: Could not infer format, so each element will be parsed individually, falling back to `dateutil`. To ensure parsing is consistent and as-expected, please specify a format.\n",
      "  df[\"hour\"] = pd.to_datetime(df[\"collision_time\"]).dt.hour\n"
     ]
    }
   ],
   "source": [
    "con = sqlite3.connect(\"switrs.sqlite\")\n",
    "\n",
    "query = \"\"\"\n",
    "    SELECT * FROM collisions WHERE county_location = 'los angeles'\n",
    "    \"\"\"\n",
    "\n",
    "df = pd.read_sql_query(query, con, parse_dates = [\"collision_date\"])\n",
    "df[\"year\"] = df[\"collision_date\"].dt.year\n",
    "df[\"hour\"] = pd.to_datetime(df[\"collision_time\"]).dt.hour\n",
    "df = df.query(\"year < 2021\") # remove incomplete 2021 data\n",
    "df[\"alcohol_involved\"] = df[\"alcohol_involved\"].fillna(0) # convert NaN to 0 in alcohol use column\n",
    "\n",
    "dfc = df[[\"case_id\", \"county_location\", \"alcohol_involved\", \"collision_severity\", \"injured_victims\", \"collision_date\", \"year\", \"collision_time\", \"hour\", \"party_count\"]]\n",
    "\n",
    "con.close()"
   ]
  },
  {
   "cell_type": "code",
   "execution_count": 7,
   "id": "35123b4f-90c6-478c-b780-96d5de47fc98",
   "metadata": {},
   "outputs": [],
   "source": [
    "# Create a copy of the dataframe\n",
    "dfrf = df.copy()\n",
    "dfrf = dfrf[dfrf['year'] == 2020]\n",
    "\n",
    "dfrf[\"minute\"] = pd.to_datetime(df[\"collision_time\"], format = \"%H:%M:%S\").dt.minute\n",
    "dfrf[\"day\"] = pd.to_datetime(df[\"collision_time\"], format = \"%H:%M:%S\").dt.day_of_year\n",
    "\n",
    "\n",
    "drop_feats = [\"collision_severity\", \"killed_victims\", \"injured_victims\", \"severe_injury_count\",\n",
    "              \"other_visible_injury_count\", \"complaint_of_pain_injury_count\", \"pedestrian_killed_count\", \"pedestrian_injured_count\",\n",
    "              \"bicyclist_killed_count\", \"bicyclist_injured_count\", \"motorcyclist_killed_count\", \"motorcyclist_injured_count\",\n",
    "              \"case_id\", \"process_date\", \"hour\", \"collision_date\", \"process_date\", \"collision_time\",\n",
    "              \"city_division_lapd\"]\n",
    "\n",
    "dfnan = pd.DataFrame()\n",
    "dfnan[\"predictor\"] = (dfrf.isna().sum() / dfrf.isna().count()).sort_values().index\n",
    "dfnan[\"p_nan\"] = (dfrf.isna().sum() / dfrf.isna().count()).sort_values().values\n",
    "\n",
    "drop_nans = dfnan.query(\"p_nan > 0.8\")[\"predictor\"] # drop features that are more than 80 % nan\n",
    "\n",
    "X = dfrf.drop(drop_feats, axis = 1).drop(drop_nans, axis = 1).convert_dtypes()\n",
    "\n",
    "numcols = []\n",
    "for column in X:\n",
    "    if X[column].dtype != \"string[python]\":\n",
    "        numcols.append(column)\n",
    "badnumcols = [column for column in numcols if column not in [\"distance\", \"party_count\", \"latitude\", \"longitude\", \"year\", \"minute\", \"day\"]] # only keep these ones as numeric\n",
    "X[badnumcols] = X[badnumcols].astype(\"string[python]\")\n",
    "\n",
    "badcats = [column for column in X if X[column].nunique() > 100 and X[column].dtype == \"string[python]\"]\n",
    "X = X.drop(badcats, axis = 1) # drop categorical features with more than 100 unique groups"
   ]
  },
  {
   "cell_type": "code",
   "execution_count": 33,
   "id": "faaed2d2-bf95-4b06-bfd7-5b505cd16d0e",
   "metadata": {},
   "outputs": [
    {
     "name": "stdout",
     "output_type": "stream",
     "text": [
      "Lasso RMSE: 0.853\n",
      "Top Features (by absolute coefficient value):\n",
      "                                               feature  coefficient\n",
      "247                            hit_and_run_misdemeanor     0.127149\n",
      "1                                          party_count     0.000351\n",
      "5                                               minute     0.000260\n",
      "0                                             distance     0.000026\n",
      "393  chp_vehicle_type_at_fault_two-axle truck: haza...     0.000000\n",
      "248                        hit_and_run_not hit and run     0.000000\n",
      "270  pedestrian_action_crossing in intersection cro...     0.000000\n",
      "269                  motor_vehicle_involved_with_train     0.000000\n",
      "268             motor_vehicle_involved_with_pedestrian     0.000000\n",
      "267   motor_vehicle_involved_with_parked motor vehicle     0.000000\n",
      "266           motor_vehicle_involved_with_other object     0.000000\n",
      "265    motor_vehicle_involved_with_other motor vehicle     0.000000\n",
      "264          motor_vehicle_involved_with_non-collision     0.000000\n",
      "263  motor_vehicle_involved_with_motor vehicle on o...     0.000000\n",
      "262           motor_vehicle_involved_with_fixed object     0.000000\n",
      "261                motor_vehicle_involved_with_bicycle     0.000000\n",
      "260                 motor_vehicle_involved_with_animal     0.000000\n",
      "259                        type_of_collision_sideswipe     0.000000\n",
      "258                         type_of_collision_rear end     0.000000\n",
      "257                       type_of_collision_pedestrian     0.000000\n"
     ]
    }
   ],
   "source": [
    "# One-hot encode categorical variables\n",
    "Xoh = pd.get_dummies(X)\n",
    "\n",
    "# Impute missing values with the mean of each column\n",
    "imputer = SimpleImputer(strategy='mean')\n",
    "\n",
    "# Fit the imputer to the data and transform it, then convert back to DataFrame\n",
    "Xoh_imputed = imputer.fit_transform(Xoh)\n",
    "Xoh_imputed = pd.DataFrame(Xoh_imputed, columns=Xoh.columns)\n",
    "\n",
    "# Define the target variable\n",
    "y = dfrf[\"injured_victims\"].fillna(0) \n",
    "\n",
    "# Split the data into training and testing sets\n",
    "X_tr, X_te, y_tr, y_te = train_test_split(Xoh_imputed, y, random_state=13)\n",
    "\n",
    "# Initialize the Lasso model\n",
    "lasso = Lasso(alpha=0.1, random_state=13)\n",
    "\n",
    "# Fit the Lasso model\n",
    "lasso.fit(X_tr, y_tr)\n",
    "\n",
    "# Predict on the test set\n",
    "lasso_pred = lasso.predict(X_te)\n",
    "\n",
    "# Calculate and print RMSE\n",
    "rmse_lasso = np.sqrt(mean_squared_error(y_te, lasso_pred))\n",
    "print(f\"Lasso RMSE: {rmse_lasso:.3f}\")\n",
    "\n",
    "# Show the coefficients of the features to understand feature importance\n",
    "feature_importance_lasso = pd.DataFrame({\n",
    "    \"feature\": X_tr.columns, \n",
    "    \"coefficient\": np.abs(lasso.coef_)\n",
    "}).sort_values(\"coefficient\", ascending=False)\n",
    "\n",
    "# Print the top 20 most important features\n",
    "print(\"Top Features (by absolute coefficient value):\")\n",
    "print(feature_importance_lasso.head(20))\n"
   ]
  },
  {
   "cell_type": "code",
   "execution_count": 35,
   "id": "53291008-d5c9-45b7-9c4c-ec2e5082c148",
   "metadata": {},
   "outputs": [
    {
     "name": "stdout",
     "output_type": "stream",
     "text": [
      "Lasso RMSE: 0.438\n",
      "Top Features (by absolute coefficient value):\n",
      "                                               feature   coefficient\n",
      "0                                             distance  4.693404e-07\n",
      "272                          pedestrian_action_in road  0.000000e+00\n",
      "270  pedestrian_action_crossing non-intersection cr...  0.000000e+00\n",
      "269  pedestrian_action_crossing in intersection cro...  0.000000e+00\n",
      "268                  motor_vehicle_involved_with_train  0.000000e+00\n",
      "267             motor_vehicle_involved_with_pedestrian  0.000000e+00\n",
      "266   motor_vehicle_involved_with_parked motor vehicle  0.000000e+00\n",
      "265           motor_vehicle_involved_with_other object  0.000000e+00\n",
      "264    motor_vehicle_involved_with_other motor vehicle  0.000000e+00\n",
      "263          motor_vehicle_involved_with_non-collision  0.000000e+00\n",
      "262  motor_vehicle_involved_with_motor vehicle on o...  0.000000e+00\n",
      "261           motor_vehicle_involved_with_fixed object  0.000000e+00\n",
      "260                motor_vehicle_involved_with_bicycle  0.000000e+00\n",
      "259                 motor_vehicle_involved_with_animal  0.000000e+00\n",
      "258                        type_of_collision_sideswipe  0.000000e+00\n",
      "257                         type_of_collision_rear end  0.000000e+00\n",
      "256                       type_of_collision_pedestrian  0.000000e+00\n",
      "255                       type_of_collision_overturned  0.000000e+00\n",
      "254                            type_of_collision_other  0.000000e+00\n",
      "253                       type_of_collision_hit object  0.000000e+00\n"
     ]
    }
   ],
   "source": [
    "Xoh2 = pd.get_dummies(X.drop(\"party_count\", axis = 1))\n",
    "y2 = dfrf[\"injured_victims\"].fillna(0) / dfrf[\"party_count\"].fillna(1)\n",
    "\n",
    "# Fit the imputer to the data and transform it, then convert back to DataFrame\n",
    "Xoh2_imputed = imputer.fit_transform(Xoh2)\n",
    "Xoh2_imputed = pd.DataFrame(Xoh2_imputed, columns=Xoh2.columns)\n",
    "\n",
    "# Split the data into training and testing sets\n",
    "X_tr, X_te, y_tr, y_te = train_test_split(Xoh2_imputed, y2, random_state=13)\n",
    "\n",
    "# Initialize the Lasso model\n",
    "lasso = Lasso(alpha=0.1, random_state=13)\n",
    "\n",
    "# Fit the Lasso model\n",
    "lasso.fit(X_tr, y_tr)\n",
    "\n",
    "# Predict on the test set\n",
    "lasso_pred = lasso.predict(X_te)\n",
    "\n",
    "# Calculate and print RMSE\n",
    "rmse_lasso = np.sqrt(mean_squared_error(y_te, lasso_pred))\n",
    "print(f\"Lasso RMSE: {rmse_lasso:.3f}\")\n",
    "\n",
    "# Show the coefficients of the features to understand feature importance\n",
    "feature_importance_lasso = pd.DataFrame({\n",
    "    \"feature\": X_tr.columns, \n",
    "    \"coefficient\": np.abs(lasso.coef_)\n",
    "}).sort_values(\"coefficient\", ascending=False)\n",
    "\n",
    "# Print the top 20 most important features\n",
    "print(\"Top Features (by absolute coefficient value):\")\n",
    "print(feature_importance_lasso.head(20))\n"
   ]
  },
  {
   "cell_type": "code",
   "execution_count": null,
   "id": "9b28417b-be94-47ef-a588-c6f512b0a678",
   "metadata": {},
   "outputs": [],
   "source": []
  },
  {
   "cell_type": "code",
   "execution_count": null,
   "id": "af3ed564-9434-418f-81d0-5157b999c44b",
   "metadata": {},
   "outputs": [],
   "source": []
  },
  {
   "cell_type": "code",
   "execution_count": null,
   "id": "8bf63d5c-99b1-45cc-86e1-35f10d644f60",
   "metadata": {},
   "outputs": [],
   "source": []
  }
 ],
 "metadata": {
  "kernelspec": {
   "display_name": "Python 3",
   "language": "python",
   "name": "python3"
  },
  "language_info": {
   "codemirror_mode": {
    "name": "ipython",
    "version": 3
   },
   "file_extension": ".py",
   "mimetype": "text/x-python",
   "name": "python",
   "nbconvert_exporter": "python",
   "pygments_lexer": "ipython3",
   "version": "3.11.11"
  }
 },
 "nbformat": 4,
 "nbformat_minor": 5
}
