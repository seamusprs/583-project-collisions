{
 "cells": [
  {
   "cell_type": "code",
   "execution_count": 1,
   "metadata": {},
   "outputs": [
    {
     "data": {
      "text/plain": [
       "DataTransformerRegistry.enable('default')"
      ]
     },
     "execution_count": 1,
     "metadata": {},
     "output_type": "execute_result"
    }
   ],
   "source": [
    "import pandas as pd\n",
    "import numpy as np\n",
    "import sqlite3\n",
    "import altair as alt\n",
    "import scipy.interpolate as interpolate\n",
    "from scipy.stats import skewnorm\n",
    "from sklearn.linear_model import Lasso\n",
    "from sklearn.model_selection import train_test_split\n",
    "from sklearn.metrics import mean_squared_error, confusion_matrix, ConfusionMatrixDisplay\n",
    "import statsmodels.api as sm\n",
    "from sklearn.impute import SimpleImputer\n",
    "from sklearn.ensemble import RandomForestRegressor, RandomForestClassifier\n",
    "from sklearn.preprocessing import OneHotEncoder, OrdinalEncoder\n",
    "from scipy.stats import chi2\n",
    "\n",
    "alt.data_transformers.disable_max_rows()"
   ]
  },
  {
   "cell_type": "code",
   "execution_count": null,
   "metadata": {},
   "outputs": [],
   "source": [
    "con = sqlite3.connect(\"switrs.sqlite\")\n",
    "\n",
    "query = \"\"\"\n",
    "    SELECT * FROM collisions WHERE county_location = 'los angeles'\n",
    "    \"\"\"\n",
    "\n",
    "df = pd.read_sql_query(query, con, parse_dates = [\"collision_date\"])\n",
    "df[\"year\"] = df[\"collision_date\"].dt.year\n",
    "df[\"hour\"] = pd.to_datetime(df[\"collision_time\"]).dt.hour\n",
    "df = df.query(\"year < 2021\") # remove incomplete 2021 data\n",
    "df[\"alcohol_involved\"] = df[\"alcohol_involved\"].fillna(0) # convert NaN to 0 in alcohol use column\n",
    "\n",
    "dfc = df[[\"case_id\", \"county_location\", \"alcohol_involved\", \"collision_severity\", \"injured_victims\", \"collision_date\", \"year\", \"collision_time\", \"hour\", \"party_count\"]]"
   ]
  },
  {
   "cell_type": "markdown",
   "metadata": {},
   "source": [
    "#### Distribution of the proportion of crashes involving alcohol by time of day"
   ]
  },
  {
   "cell_type": "code",
   "execution_count": 244,
   "metadata": {},
   "outputs": [],
   "source": [
    "# We will attempt to use multiple models to fit this distribution. We will use polynomial splines and B-splines but it appears a skewed-normal may be a possible fit as well.\n",
    "\n"
   ]
  },
  {
   "cell_type": "code",
   "execution_count": null,
   "metadata": {},
   "outputs": [],
   "source": []
  },
  {
   "cell_type": "markdown",
   "metadata": {},
   "source": [
    "#### Distributions of the number of injuries per collision, alcohol vs. no alcohol"
   ]
  },
  {
   "cell_type": "code",
   "execution_count": 5,
   "metadata": {},
   "outputs": [
    {
     "data": {
      "text/html": [
       "\n",
       "<style>\n",
       "  #altair-viz-43c0c9891fed4b8db9c5bdb5286573ba.vega-embed {\n",
       "    width: 100%;\n",
       "    display: flex;\n",
       "  }\n",
       "\n",
       "  #altair-viz-43c0c9891fed4b8db9c5bdb5286573ba.vega-embed details,\n",
       "  #altair-viz-43c0c9891fed4b8db9c5bdb5286573ba.vega-embed details summary {\n",
       "    position: relative;\n",
       "  }\n",
       "</style>\n",
       "<div id=\"altair-viz-43c0c9891fed4b8db9c5bdb5286573ba\"></div>\n",
       "<script type=\"text/javascript\">\n",
       "  var VEGA_DEBUG = (typeof VEGA_DEBUG == \"undefined\") ? {} : VEGA_DEBUG;\n",
       "  (function(spec, embedOpt){\n",
       "    let outputDiv = document.currentScript.previousElementSibling;\n",
       "    if (outputDiv.id !== \"altair-viz-43c0c9891fed4b8db9c5bdb5286573ba\") {\n",
       "      outputDiv = document.getElementById(\"altair-viz-43c0c9891fed4b8db9c5bdb5286573ba\");\n",
       "    }\n",
       "\n",
       "    const paths = {\n",
       "      \"vega\": \"https://cdn.jsdelivr.net/npm/vega@5?noext\",\n",
       "      \"vega-lib\": \"https://cdn.jsdelivr.net/npm/vega-lib?noext\",\n",
       "      \"vega-lite\": \"https://cdn.jsdelivr.net/npm/vega-lite@5.20.1?noext\",\n",
       "      \"vega-embed\": \"https://cdn.jsdelivr.net/npm/vega-embed@6?noext\",\n",
       "    };\n",
       "\n",
       "    function maybeLoadScript(lib, version) {\n",
       "      var key = `${lib.replace(\"-\", \"\")}_version`;\n",
       "      return (VEGA_DEBUG[key] == version) ?\n",
       "        Promise.resolve(paths[lib]) :\n",
       "        new Promise(function(resolve, reject) {\n",
       "          var s = document.createElement('script');\n",
       "          document.getElementsByTagName(\"head\")[0].appendChild(s);\n",
       "          s.async = true;\n",
       "          s.onload = () => {\n",
       "            VEGA_DEBUG[key] = version;\n",
       "            return resolve(paths[lib]);\n",
       "          };\n",
       "          s.onerror = () => reject(`Error loading script: ${paths[lib]}`);\n",
       "          s.src = paths[lib];\n",
       "        });\n",
       "    }\n",
       "\n",
       "    function showError(err) {\n",
       "      outputDiv.innerHTML = `<div class=\"error\" style=\"color:red;\">${err}</div>`;\n",
       "      throw err;\n",
       "    }\n",
       "\n",
       "    function displayChart(vegaEmbed) {\n",
       "      vegaEmbed(outputDiv, spec, embedOpt)\n",
       "        .catch(err => showError(`Javascript Error: ${err.message}<br>This usually means there's a typo in your chart specification. See the javascript console for the full traceback.`));\n",
       "    }\n",
       "\n",
       "    if(typeof define === \"function\" && define.amd) {\n",
       "      requirejs.config({paths});\n",
       "      let deps = [\"vega-embed\"];\n",
       "      require(deps, displayChart, err => showError(`Error loading script: ${err.message}`));\n",
       "    } else {\n",
       "      maybeLoadScript(\"vega\", \"5\")\n",
       "        .then(() => maybeLoadScript(\"vega-lite\", \"5.20.1\"))\n",
       "        .then(() => maybeLoadScript(\"vega-embed\", \"6\"))\n",
       "        .catch(showError)\n",
       "        .then(() => displayChart(vegaEmbed));\n",
       "    }\n",
       "  })({\"config\": {\"view\": {\"continuousWidth\": 300, \"continuousHeight\": 300}}, \"data\": {\"name\": \"data-9ff3574f94829ed5da594d83eeef05c2\"}, \"mark\": {\"type\": \"bar\"}, \"encoding\": {\"color\": {\"field\": \"alcohol_involved\", \"scale\": {\"domain\": [0, 1], \"range\": [\"red\", \"blue\"]}, \"title\": \"Alcohol Involved\", \"type\": \"nominal\"}, \"column\": {\"field\": \"alcohol_involved\", \"header\": {\"title\": \"Alcohol Involvement\"}, \"type\": \"nominal\"}, \"x\": {\"field\": \"injured_victims\", \"title\": \"Number of Injuries\", \"type\": \"ordinal\"}, \"y\": {\"field\": \"proportion\", \"title\": \"Proportion of Accidents\", \"type\": \"quantitative\"}}, \"height\": 300, \"width\": 250, \"$schema\": \"https://vega.github.io/schema/vega-lite/v5.20.1.json\", \"datasets\": {\"data-9ff3574f94829ed5da594d83eeef05c2\": [{\"alcohol_involved\": 0.0, \"injured_victims\": 0.0, \"accident_count\": 1552578, \"proportion\": 0.6025794928340306}, {\"alcohol_involved\": 0.0, \"injured_victims\": 1.0, \"accident_count\": 711212, \"proportion\": 0.2760323579604223}, {\"alcohol_involved\": 0.0, \"injured_victims\": 2.0, \"accident_count\": 211091, \"proportion\": 0.08192767624031021}, {\"alcohol_involved\": 0.0, \"injured_victims\": 3.0, \"accident_count\": 66895, \"proportion\": 0.025962982325611}, {\"alcohol_involved\": 0.0, \"injured_victims\": 4.0, \"accident_count\": 22349, \"proportion\": 0.008673991957471863}, {\"alcohol_involved\": 0.0, \"injured_victims\": 5.0, \"accident_count\": 7730, \"proportion\": 0.0030001323473648708}, {\"alcohol_involved\": 0.0, \"injured_victims\": 6.0, \"accident_count\": 2821, \"proportion\": 0.0010948736548404012}, {\"alcohol_involved\": 0.0, \"injured_victims\": 7.0, \"accident_count\": 971, \"proportion\": 0.0003768600917582522}, {\"alcohol_involved\": 0.0, \"injured_victims\": 8.0, \"accident_count\": 446, \"proportion\": 0.00017309948601872347}, {\"alcohol_involved\": 0.0, \"injured_victims\": 9.0, \"accident_count\": 183, \"proportion\": 7.102512542920716e-05}, {\"alcohol_involved\": 0.0, \"injured_victims\": 10.0, \"accident_count\": 90, \"proportion\": 3.4930389555347784e-05}, {\"alcohol_involved\": 0.0, \"injured_victims\": 11.0, \"accident_count\": 59, \"proportion\": 2.289881093072799e-05}, {\"alcohol_involved\": 0.0, \"injured_victims\": 12.0, \"accident_count\": 22, \"proportion\": 8.538539669085014e-06}, {\"alcohol_involved\": 0.0, \"injured_victims\": 13.0, \"accident_count\": 25, \"proportion\": 9.702885987596607e-06}, {\"alcohol_involved\": 0.0, \"injured_victims\": 14.0, \"accident_count\": 18, \"proportion\": 6.986077911069557e-06}, {\"alcohol_involved\": 0.0, \"injured_victims\": 15.0, \"accident_count\": 17, \"proportion\": 6.597962471565693e-06}, {\"alcohol_involved\": 0.0, \"injured_victims\": 16.0, \"accident_count\": 4, \"proportion\": 1.552461758015457e-06}, {\"alcohol_involved\": 0.0, \"injured_victims\": 17.0, \"accident_count\": 6, \"proportion\": 2.3286926370231855e-06}, {\"alcohol_involved\": 0.0, \"injured_victims\": 18.0, \"accident_count\": 6, \"proportion\": 2.3286926370231855e-06}, {\"alcohol_involved\": 0.0, \"injured_victims\": 19.0, \"accident_count\": 2, \"proportion\": 7.762308790077285e-07}, {\"alcohol_involved\": 0.0, \"injured_victims\": 20.0, \"accident_count\": 6, \"proportion\": 2.3286926370231855e-06}, {\"alcohol_involved\": 0.0, \"injured_victims\": 21.0, \"accident_count\": 1, \"proportion\": 3.8811543950386425e-07}, {\"alcohol_involved\": 0.0, \"injured_victims\": 22.0, \"accident_count\": 4, \"proportion\": 1.552461758015457e-06}, {\"alcohol_involved\": 0.0, \"injured_victims\": 23.0, \"accident_count\": 1, \"proportion\": 3.8811543950386425e-07}, {\"alcohol_involved\": 0.0, \"injured_victims\": 25.0, \"accident_count\": 4, \"proportion\": 1.552461758015457e-06}, {\"alcohol_involved\": 0.0, \"injured_victims\": 27.0, \"accident_count\": 1, \"proportion\": 3.8811543950386425e-07}, {\"alcohol_involved\": 0.0, \"injured_victims\": 29.0, \"accident_count\": 2, \"proportion\": 7.762308790077285e-07}, {\"alcohol_involved\": 0.0, \"injured_victims\": 31.0, \"accident_count\": 3, \"proportion\": 1.1643463185115928e-06}, {\"alcohol_involved\": 0.0, \"injured_victims\": 33.0, \"accident_count\": 1, \"proportion\": 3.8811543950386425e-07}, {\"alcohol_involved\": 0.0, \"injured_victims\": 34.0, \"accident_count\": 2, \"proportion\": 7.762308790077285e-07}, {\"alcohol_involved\": 0.0, \"injured_victims\": 39.0, \"accident_count\": 1, \"proportion\": 3.8811543950386425e-07}, {\"alcohol_involved\": 0.0, \"injured_victims\": 49.0, \"accident_count\": 1, \"proportion\": 3.8811543950386425e-07}, {\"alcohol_involved\": 0.0, \"injured_victims\": 64.0, \"accident_count\": 1, \"proportion\": 3.8811543950386425e-07}, {\"alcohol_involved\": 1.0, \"injured_victims\": 0.0, \"accident_count\": 143714, \"proportion\": 0.5996353303931673}, {\"alcohol_involved\": 1.0, \"injured_victims\": 1.0, \"accident_count\": 67762, \"proportion\": 0.2827316006659184}, {\"alcohol_involved\": 1.0, \"injured_victims\": 2.0, \"accident_count\": 18007, \"proportion\": 0.07513278730248801}, {\"alcohol_involved\": 1.0, \"injured_victims\": 3.0, \"accident_count\": 6275, \"proportion\": 0.026181942595830083}, {\"alcohol_involved\": 1.0, \"injured_victims\": 4.0, \"accident_count\": 2329, \"proportion\": 0.0097175688136555}, {\"alcohol_involved\": 1.0, \"injured_victims\": 5.0, \"accident_count\": 964, \"proportion\": 0.00402221397010043}, {\"alcohol_involved\": 1.0, \"injured_victims\": 6.0, \"accident_count\": 349, \"proportion\": 0.0014561749746525416}, {\"alcohol_involved\": 1.0, \"injured_victims\": 7.0, \"accident_count\": 150, \"proportion\": 0.0006258631696214362}, {\"alcohol_involved\": 1.0, \"injured_victims\": 8.0, \"accident_count\": 51, \"proportion\": 0.00021279347767128831}, {\"alcohol_involved\": 1.0, \"injured_victims\": 9.0, \"accident_count\": 32, \"proportion\": 0.0001335174761859064}, {\"alcohol_involved\": 1.0, \"injured_victims\": 10.0, \"accident_count\": 20, \"proportion\": 8.344842261619149e-05}, {\"alcohol_involved\": 1.0, \"injured_victims\": 11.0, \"accident_count\": 4, \"proportion\": 1.66896845232383e-05}, {\"alcohol_involved\": 1.0, \"injured_victims\": 12.0, \"accident_count\": 4, \"proportion\": 1.66896845232383e-05}, {\"alcohol_involved\": 1.0, \"injured_victims\": 13.0, \"accident_count\": 3, \"proportion\": 1.2517263392428725e-05}, {\"alcohol_involved\": 1.0, \"injured_victims\": 14.0, \"accident_count\": 2, \"proportion\": 8.34484226161915e-06}, {\"alcohol_involved\": 1.0, \"injured_victims\": 17.0, \"accident_count\": 1, \"proportion\": 4.172421130809575e-06}, {\"alcohol_involved\": 1.0, \"injured_victims\": 31.0, \"accident_count\": 1, \"proportion\": 4.172421130809575e-06}, {\"alcohol_involved\": 1.0, \"injured_victims\": 34.0, \"accident_count\": 1, \"proportion\": 4.172421130809575e-06}]}}, {\"mode\": \"vega-lite\"});\n",
       "</script>"
      ],
      "text/plain": [
       "alt.Chart(...)"
      ]
     },
     "metadata": {},
     "output_type": "display_data"
    }
   ],
   "source": [
    "# These appear to follow exponential or Weibull distributions. We will determine which is the best fit and then compare to see if alcohol has an effect on the distribution.\n",
    "\n",
    "# Group by 'alcohol_involved' and 'injured_victims' to count the number of accidents with each number of injuries\n",
    "injury_distribution = dfc.groupby(['alcohol_involved', 'injured_victims']).size().reset_index(name='accident_count')\n",
    "\n",
    "# Calculate the total number of accidents for each alcohol involvement category\n",
    "total_accidents_by_alcohol = injury_distribution.groupby('alcohol_involved')['accident_count'].transform('sum')\n",
    "\n",
    "# Calculate the proportion of each accident count within the alcohol involvement category\n",
    "injury_distribution['proportion'] = injury_distribution['accident_count'] / total_accidents_by_alcohol\n",
    "\n",
    "# Create the Altair chart\n",
    "chart = alt.Chart(injury_distribution).mark_bar().encode(\n",
    "    x=alt.X('injured_victims:O', title='Number of Injuries'),\n",
    "    y=alt.Y('proportion:Q', title='Proportion of Accidents'),\n",
    "    color=alt.Color('alcohol_involved:N', title='Alcohol Involved', scale=alt.Scale(domain=[0, 1], range=['red', 'blue'])),\n",
    "    column=alt.Column('alcohol_involved:N', header=alt.Header(title='Alcohol Involvement')) \n",
    ").properties(\n",
    "    width=250, \n",
    "    height=300 \n",
    ")\n",
    "\n",
    "chart.show()\n"
   ]
  },
  {
   "cell_type": "code",
   "execution_count": 7,
   "metadata": {},
   "outputs": [
    {
     "name": "stdout",
     "output_type": "stream",
     "text": [
      "Exponential Distribution Parameters (Alcohol Involved): (1.0, 13313.944444444445)\n",
      "Weibull Distribution Parameters (Alcohol Involved): (0.2827970914523752, 0.9999999999999999, 32408.76755983086)\n",
      "Exponential Distribution Parameters (No Alcohol): (1.0, 78076.36363636363)\n",
      "Weibull Distribution Parameters (No Alcohol): (0.11011603579345491, 0.9999999999999999, 175746.96085197106)\n",
      "Log-Likelihood for Exponential (Alcohol Involved): -188.93820994982707\n",
      "Log-Likelihood for Weibull (Alcohol Involved): -60.33744158328639\n",
      "Log-Likelihood for Exponential (No Alcohol): -404.759607374835\n",
      "Log-Likelihood for Weibull (No Alcohol): -12.74514700995677\n"
     ]
    }
   ],
   "source": [
    "from scipy.stats import expon, weibull_min\n",
    "\n",
    "# Filter data for alcohol-involved accidents (alcohol_involved == 1)\n",
    "alcohol_df = injury_distribution[injury_distribution['alcohol_involved'] == 1]\n",
    "\n",
    "# Filter data for non-alcohol-involved accidents (alcohol_involved == 0)\n",
    "no_alcohol_df = injury_distribution[injury_distribution['alcohol_involved'] == 0]\n",
    "\n",
    "# Fit the Exponential distribution for alcohol-involved accidents\n",
    "accident_data_alcohol = alcohol_df['accident_count']\n",
    "exponential_params_alcohol = expon.fit(accident_data_alcohol)\n",
    "\n",
    "# Fit the Weibull distribution for alcohol-involved accidents\n",
    "weibull_params_alcohol = weibull_min.fit(accident_data_alcohol)\n",
    "\n",
    "# Print the parameters for alcohol-involved accidents\n",
    "print(f\"Exponential Distribution Parameters (Alcohol Involved): {exponential_params_alcohol}\")\n",
    "print(f\"Weibull Distribution Parameters (Alcohol Involved): {weibull_params_alcohol}\")\n",
    "\n",
    "# Fit the Exponential distribution for non-alcohol-involved accidents\n",
    "accident_data_no_alcohol = no_alcohol_df['accident_count']\n",
    "exponential_params_no_alcohol = expon.fit(accident_data_no_alcohol)\n",
    "\n",
    "# Fit the Weibull distribution for non-alcohol-involved accidents\n",
    "weibull_params_no_alcohol = weibull_min.fit(accident_data_no_alcohol)\n",
    "\n",
    "# Print the parameters for non-alcohol-involved accidents\n",
    "print(f\"Exponential Distribution Parameters (No Alcohol): {exponential_params_no_alcohol}\")\n",
    "print(f\"Weibull Distribution Parameters (No Alcohol): {weibull_params_no_alcohol}\")\n",
    "\n",
    "# Calculate log-likelihood for Exponential distribution for alcohol-involved accidents\n",
    "expon_loglik_alcohol = np.sum([np.log(expon.pdf(x, *exponential_params_alcohol)) for x in accident_data_alcohol])\n",
    "\n",
    "# Calculate log-likelihood for Weibull distribution for alcohol-involved accidents\n",
    "weibull_loglik_alcohol = np.sum([np.log(weibull_min.pdf(x, *weibull_params_alcohol)) for x in accident_data_alcohol])\n",
    "\n",
    "# Print log-likelihood values for alcohol-involved accidents\n",
    "print(f\"Log-Likelihood for Exponential (Alcohol Involved): {expon_loglik_alcohol}\")\n",
    "print(f\"Log-Likelihood for Weibull (Alcohol Involved): {weibull_loglik_alcohol}\")\n",
    "\n",
    "# Calculate log-likelihood for Exponential distribution for non-alcohol-involved accidents\n",
    "expon_loglik_no_alcohol = np.sum([np.log(expon.pdf(x, *exponential_params_no_alcohol)) for x in accident_data_no_alcohol])\n",
    "\n",
    "# Calculate log-likelihood for Weibull distribution for non-alcohol-involved accidents\n",
    "weibull_loglik_no_alcohol = np.sum([np.log(weibull_min.pdf(x, *weibull_params_no_alcohol)) for x in accident_data_no_alcohol])\n",
    "\n",
    "# Print log-likelihood values for non-alcohol-involved accidents\n",
    "print(f\"Log-Likelihood for Exponential (No Alcohol): {expon_loglik_no_alcohol}\")\n",
    "print(f\"Log-Likelihood for Weibull (No Alcohol): {weibull_loglik_no_alcohol}\")\n",
    "\n"
   ]
  },
  {
   "cell_type": "code",
   "execution_count": 9,
   "metadata": {},
   "outputs": [
    {
     "data": {
      "text/html": [
       "\n",
       "<style>\n",
       "  #altair-viz-e8198d9451ca402c9058aaf34f1fd61c.vega-embed {\n",
       "    width: 100%;\n",
       "    display: flex;\n",
       "  }\n",
       "\n",
       "  #altair-viz-e8198d9451ca402c9058aaf34f1fd61c.vega-embed details,\n",
       "  #altair-viz-e8198d9451ca402c9058aaf34f1fd61c.vega-embed details summary {\n",
       "    position: relative;\n",
       "  }\n",
       "</style>\n",
       "<div id=\"altair-viz-e8198d9451ca402c9058aaf34f1fd61c\"></div>\n",
       "<script type=\"text/javascript\">\n",
       "  var VEGA_DEBUG = (typeof VEGA_DEBUG == \"undefined\") ? {} : VEGA_DEBUG;\n",
       "  (function(spec, embedOpt){\n",
       "    let outputDiv = document.currentScript.previousElementSibling;\n",
       "    if (outputDiv.id !== \"altair-viz-e8198d9451ca402c9058aaf34f1fd61c\") {\n",
       "      outputDiv = document.getElementById(\"altair-viz-e8198d9451ca402c9058aaf34f1fd61c\");\n",
       "    }\n",
       "\n",
       "    const paths = {\n",
       "      \"vega\": \"https://cdn.jsdelivr.net/npm/vega@5?noext\",\n",
       "      \"vega-lib\": \"https://cdn.jsdelivr.net/npm/vega-lib?noext\",\n",
       "      \"vega-lite\": \"https://cdn.jsdelivr.net/npm/vega-lite@5.20.1?noext\",\n",
       "      \"vega-embed\": \"https://cdn.jsdelivr.net/npm/vega-embed@6?noext\",\n",
       "    };\n",
       "\n",
       "    function maybeLoadScript(lib, version) {\n",
       "      var key = `${lib.replace(\"-\", \"\")}_version`;\n",
       "      return (VEGA_DEBUG[key] == version) ?\n",
       "        Promise.resolve(paths[lib]) :\n",
       "        new Promise(function(resolve, reject) {\n",
       "          var s = document.createElement('script');\n",
       "          document.getElementsByTagName(\"head\")[0].appendChild(s);\n",
       "          s.async = true;\n",
       "          s.onload = () => {\n",
       "            VEGA_DEBUG[key] = version;\n",
       "            return resolve(paths[lib]);\n",
       "          };\n",
       "          s.onerror = () => reject(`Error loading script: ${paths[lib]}`);\n",
       "          s.src = paths[lib];\n",
       "        });\n",
       "    }\n",
       "\n",
       "    function showError(err) {\n",
       "      outputDiv.innerHTML = `<div class=\"error\" style=\"color:red;\">${err}</div>`;\n",
       "      throw err;\n",
       "    }\n",
       "\n",
       "    function displayChart(vegaEmbed) {\n",
       "      vegaEmbed(outputDiv, spec, embedOpt)\n",
       "        .catch(err => showError(`Javascript Error: ${err.message}<br>This usually means there's a typo in your chart specification. See the javascript console for the full traceback.`));\n",
       "    }\n",
       "\n",
       "    if(typeof define === \"function\" && define.amd) {\n",
       "      requirejs.config({paths});\n",
       "      let deps = [\"vega-embed\"];\n",
       "      require(deps, displayChart, err => showError(`Error loading script: ${err.message}`));\n",
       "    } else {\n",
       "      maybeLoadScript(\"vega\", \"5\")\n",
       "        .then(() => maybeLoadScript(\"vega-lite\", \"5.20.1\"))\n",
       "        .then(() => maybeLoadScript(\"vega-embed\", \"6\"))\n",
       "        .catch(showError)\n",
       "        .then(() => displayChart(vegaEmbed));\n",
       "    }\n",
       "  })({\"config\": {\"view\": {\"continuousWidth\": 300, \"continuousHeight\": 300}}, \"layer\": [{\"mark\": {\"type\": \"line\", \"color\": \"blue\"}, \"encoding\": {\"x\": {\"field\": \"injured_victims\", \"type\": \"quantitative\"}, \"y\": {\"field\": \"weibull_pdf_alcohol\", \"type\": \"quantitative\"}}}, {\"mark\": {\"type\": \"line\", \"color\": \"red\"}, \"encoding\": {\"x\": {\"field\": \"injured_victims\", \"type\": \"quantitative\"}, \"y\": {\"field\": \"weibull_pdf_no_alcohol\", \"type\": \"quantitative\"}}}], \"data\": {\"name\": \"data-dc050061fe679e580be90f5a659161af\"}, \"$schema\": \"https://vega.github.io/schema/vega-lite/v5.20.1.json\", \"datasets\": {\"data-dc050061fe679e580be90f5a659161af\": [{\"injured_victims\": 0.0, \"weibull_pdf_alcohol\": 0.0, \"weibull_pdf_no_alcohol\": 0.0}, {\"injured_victims\": 0.6464646464646465, \"weibull_pdf_alcohol\": 0.0, \"weibull_pdf_no_alcohol\": 0.0}, {\"injured_victims\": 1.292929292929293, \"weibull_pdf_alcohol\": 0.03483710797354742, \"weibull_pdf_no_alcohol\": 0.06894025993688706}, {\"injured_victims\": 1.9393939393939394, \"weibull_pdf_alcohol\": 0.014884210411057126, \"weibull_pdf_no_alcohol\": 0.0236797170911564}, {\"injured_victims\": 2.585858585858586, \"weibull_pdf_alcohol\": 0.0101393790831555, \"weibull_pdf_no_alcohol\": 0.014629517887041116}, {\"injured_victims\": 3.2323232323232327, \"weibull_pdf_alcohol\": 0.00788585852007385, \"weibull_pdf_no_alcohol\": 0.010677056392755858}, {\"injured_victims\": 3.878787878787879, \"weibull_pdf_alcohol\": 0.006538488458838887, \"weibull_pdf_no_alcohol\": 0.008444952449316635}, {\"injured_victims\": 4.525252525252526, \"weibull_pdf_alcohol\": 0.005630496868824962, \"weibull_pdf_no_alcohol\": 0.007004759926441384}, {\"injured_victims\": 5.171717171717172, \"weibull_pdf_alcohol\": 0.0049716215009286135, \"weibull_pdf_no_alcohol\": 0.005995854214904669}, {\"injured_victims\": 5.818181818181818, \"weibull_pdf_alcohol\": 0.004468789957316377, \"weibull_pdf_no_alcohol\": 0.0052483480747565255}, {\"injured_victims\": 6.464646464646465, \"weibull_pdf_alcohol\": 0.004070729331851104, \"weibull_pdf_no_alcohol\": 0.00467151597107222}, {\"injured_victims\": 7.111111111111112, \"weibull_pdf_alcohol\": 0.003746714258150511, \"weibull_pdf_no_alcohol\": 0.004212413367329994}, {\"injured_victims\": 7.757575757575758, \"weibull_pdf_alcohol\": 0.0034771363701977475, \"weibull_pdf_no_alcohol\": 0.003838025549910429}, {\"injured_victims\": 8.404040404040405, \"weibull_pdf_alcohol\": 0.0032488540971576238, \"weibull_pdf_no_alcohol\": 0.003526676508977561}, {\"injured_victims\": 9.050505050505052, \"weibull_pdf_alcohol\": 0.0030527076843780226, \"weibull_pdf_no_alcohol\": 0.0032635350646685432}, {\"injured_victims\": 9.696969696969697, \"weibull_pdf_alcohol\": 0.002882104180424435, \"weibull_pdf_no_alcohol\": 0.0030381043324090667}, {\"injured_victims\": 10.343434343434344, \"weibull_pdf_alcohol\": 0.0027321690583308094, \"weibull_pdf_no_alcohol\": 0.002842742295787271}, {\"injured_victims\": 10.989898989898991, \"weibull_pdf_alcohol\": 0.0025992153541051837, \"weibull_pdf_no_alcohol\": 0.002671750569226666}, {\"injured_victims\": 11.636363636363637, \"weibull_pdf_alcohol\": 0.002480399297402558, \"weibull_pdf_no_alcohol\": 0.0025207918070126872}, {\"injured_victims\": 12.282828282828284, \"weibull_pdf_alcohol\": 0.002373489927380654, \"weibull_pdf_no_alcohol\": 0.002386505162878105}, {\"injured_victims\": 12.92929292929293, \"weibull_pdf_alcohol\": 0.0022767107990666552, \"weibull_pdf_no_alcohol\": 0.0022662453744186238}, {\"injured_victims\": 13.575757575757576, \"weibull_pdf_alcohol\": 0.0021886286566067063, \"weibull_pdf_no_alcohol\": 0.0021579014083254657}, {\"injured_victims\": 14.222222222222223, \"weibull_pdf_alcohol\": 0.002108073511585165, \"weibull_pdf_no_alcohol\": 0.002059767697476437}, {\"injured_victims\": 14.86868686868687, \"weibull_pdf_alcohol\": 0.0020340802092001886, \"weibull_pdf_no_alcohol\": 0.001970450975143005}, {\"injured_victims\": 15.515151515151516, \"weibull_pdf_alcohol\": 0.0019658450009639628, \"weibull_pdf_no_alcohol\": 0.0018888017164826476}, {\"injured_victims\": 16.161616161616163, \"weibull_pdf_alcohol\": 0.0019026927917340996, \"weibull_pdf_no_alcohol\": 0.0018138629147782844}, {\"injured_victims\": 16.80808080808081, \"weibull_pdf_alcohol\": 0.0018440521062873378, \"weibull_pdf_no_alcohol\": 0.001744831279055824}, {\"injured_victims\": 17.454545454545457, \"weibull_pdf_alcohol\": 0.00178943572298796, \"weibull_pdf_no_alcohol\": 0.0016810274708675542}, {\"injured_victims\": 18.101010101010104, \"weibull_pdf_alcohol\": 0.00173842552506119, \"weibull_pdf_no_alcohol\": 0.0016218730121312153}, {\"injured_victims\": 18.747474747474747, \"weibull_pdf_alcohol\": 0.0016906605302136803, \"weibull_pdf_no_alcohol\": 0.001566872180057159}, {\"injured_victims\": 19.393939393939394, \"weibull_pdf_alcohol\": 0.001645827343083146, \"weibull_pdf_no_alcohol\": 0.0015155976745719443}, {\"injured_victims\": 20.04040404040404, \"weibull_pdf_alcohol\": 0.001603652474235209, \"weibull_pdf_no_alcohol\": 0.0014676791706848327}, {\"injured_victims\": 20.68686868686869, \"weibull_pdf_alcohol\": 0.0015638961112822956, \"weibull_pdf_no_alcohol\": 0.0014227940993681246}, {\"injured_victims\": 21.333333333333336, \"weibull_pdf_alcohol\": 0.0015263470300068615, \"weibull_pdf_no_alcohol\": 0.0013806601660202066}, {\"injured_victims\": 21.979797979797983, \"weibull_pdf_alcohol\": 0.0014908184080381906, \"weibull_pdf_no_alcohol\": 0.0013410292355353405}, {\"injured_victims\": 22.62626262626263, \"weibull_pdf_alcohol\": 0.0014571443587317876, \"weibull_pdf_no_alcohol\": 0.0013036823009371628}, {\"injured_victims\": 23.272727272727273, \"weibull_pdf_alcohol\": 0.001425177043981458, \"weibull_pdf_no_alcohol\": 0.001268425317673932}, {\"injured_victims\": 23.91919191919192, \"weibull_pdf_alcohol\": 0.0013947842556192235, \"weibull_pdf_no_alcohol\": 0.0012350857344069824}, {\"injured_victims\": 24.565656565656568, \"weibull_pdf_alcohol\": 0.0013658473785485355, \"weibull_pdf_no_alcohol\": 0.0012035095879194214}, {\"injured_victims\": 25.212121212121215, \"weibull_pdf_alcohol\": 0.001338259666750491, \"weibull_pdf_no_alcohol\": 0.0011735590577949706}, {\"injured_victims\": 25.85858585858586, \"weibull_pdf_alcohol\": 0.0013119247771968177, \"weibull_pdf_no_alcohol\": 0.001145110398032507}, {\"injured_victims\": 26.50505050505051, \"weibull_pdf_alcohol\": 0.0012867555175119514, \"weibull_pdf_no_alcohol\": 0.001118052179408053}, {\"injured_victims\": 27.151515151515152, \"weibull_pdf_alcohol\": 0.0012626727716944146, \"weibull_pdf_no_alcohol\": 0.0010922837893679587}, {\"injured_victims\": 27.7979797979798, \"weibull_pdf_alcohol\": 0.0012396045748861212, \"weibull_pdf_no_alcohol\": 0.0010677141464149305}, {\"injured_victims\": 28.444444444444446, \"weibull_pdf_alcohol\": 0.0012174853134787078, \"weibull_pdf_no_alcohol\": 0.0010442605939858828}, {\"injured_victims\": 29.090909090909093, \"weibull_pdf_alcohol\": 0.0011962550310780876, \"weibull_pdf_no_alcohol\": 0.0010218479452064272}, {\"injured_victims\": 29.73737373737374, \"weibull_pdf_alcohol\": 0.0011758588242466953, \"weibull_pdf_no_alcohol\": 0.0010004076550101043}, {\"injured_victims\": 30.383838383838388, \"weibull_pdf_alcohol\": 0.0011562463146864372, \"weibull_pdf_no_alcohol\": 0.0009798771002112801}, {\"injured_victims\": 31.03030303030303, \"weibull_pdf_alcohol\": 0.0011373711867516925, \"weibull_pdf_no_alcohol\": 0.0009601989514333204}, {\"injured_victims\": 31.67676767676768, \"weibull_pdf_alcohol\": 0.0011191907809972345, \"weibull_pdf_no_alcohol\": 0.00094132062348306}, {\"injured_victims\": 32.323232323232325, \"weibull_pdf_alcohol\": 0.0011016657359533646, \"weibull_pdf_no_alcohol\": 0.0009231937929564529}, {\"injured_victims\": 32.969696969696976, \"weibull_pdf_alcohol\": 0.0010847596715446394, \"weibull_pdf_no_alcohol\": 0.0009057739736580869}, {\"injured_victims\": 33.61616161616162, \"weibull_pdf_alcohol\": 0.001068438908580246, \"weibull_pdf_no_alcohol\": 0.0008890201418969287}, {\"injured_victims\": 34.26262626262626, \"weibull_pdf_alcohol\": 0.0010526722195835943, \"weibull_pdf_no_alcohol\": 0.0008728944049436026}, {\"injured_victims\": 34.909090909090914, \"weibull_pdf_alcohol\": 0.0010374306069281312, \"weibull_pdf_no_alcohol\": 0.0008573617069492935}, {\"injured_victims\": 35.55555555555556, \"weibull_pdf_alcohol\": 0.0010226871048312463, \"weibull_pdf_no_alcohol\": 0.0008423895674716794}, {\"injured_victims\": 36.20202020202021, \"weibull_pdf_alcohol\": 0.0010084166022489784, \"weibull_pdf_no_alcohol\": 0.0008279478484600058}, {\"injured_victims\": 36.84848484848485, \"weibull_pdf_alcohol\": 0.0009945956841276326, \"weibull_pdf_no_alcohol\": 0.0008140085461443695}, {\"injured_victims\": 37.494949494949495, \"weibull_pdf_alcohol\": 0.0009812024888176533, \"weibull_pdf_no_alcohol\": 0.0008005456047734517}, {\"injured_victims\": 38.141414141414145, \"weibull_pdf_alcohol\": 0.00096821657975121, \"weibull_pdf_no_alcohol\": 0.000787534749566554}, {\"injured_victims\": 38.78787878787879, \"weibull_pdf_alcohol\": 0.0009556188297366556, \"weibull_pdf_no_alcohol\": 0.0007749533366030172}, {\"injured_victims\": 39.43434343434344, \"weibull_pdf_alcohol\": 0.000943391316437712, \"weibull_pdf_no_alcohol\": 0.0007627802176756809}, {\"injured_victims\": 40.08080808080808, \"weibull_pdf_alcohol\": 0.0009315172277888363, \"weibull_pdf_no_alcohol\": 0.0007509956183938035}, {\"injured_victims\": 40.727272727272734, \"weibull_pdf_alcohol\": 0.0009199807762556664, \"weibull_pdf_no_alcohol\": 0.0007395810280420164}, {\"injured_victims\": 41.37373737373738, \"weibull_pdf_alcohol\": 0.0009087671209848449, \"weibull_pdf_no_alcohol\": 0.0007285190998914506}, {\"injured_victims\": 42.02020202020202, \"weibull_pdf_alcohol\": 0.0008978622970042276, \"weibull_pdf_no_alcohol\": 0.0007177935608220494}, {\"injured_victims\": 42.66666666666667, \"weibull_pdf_alcohol\": 0.0008872531507353673, \"weibull_pdf_no_alcohol\": 0.000707389129255406}, {\"injured_victims\": 43.313131313131315, \"weibull_pdf_alcohol\": 0.0008769272811675332, \"weibull_pdf_no_alcohol\": 0.000697291440518658}, {\"injured_victims\": 43.959595959595966, \"weibull_pdf_alcohol\": 0.0008668729861184199, \"weibull_pdf_no_alcohol\": 0.0006874869788648644}, {\"injured_victims\": 44.60606060606061, \"weibull_pdf_alcohol\": 0.0008570792130727265, \"weibull_pdf_no_alcohol\": 0.0006779630154663289}, {\"injured_victims\": 45.25252525252526, \"weibull_pdf_alcohol\": 0.0008475355141473819, \"weibull_pdf_no_alcohol\": 0.0006687075517764737}, {\"injured_victims\": 45.8989898989899, \"weibull_pdf_alcohol\": 0.0008382320047825415, \"weibull_pdf_no_alcohol\": 0.0006597092677248515}, {\"injured_victims\": 46.54545454545455, \"weibull_pdf_alcohol\": 0.0008291593258015475, \"weibull_pdf_no_alcohol\": 0.0006509574742701277}, {\"injured_victims\": 47.1919191919192, \"weibull_pdf_alcohol\": 0.0008203086085217597, \"weibull_pdf_no_alcohol\": 0.0006424420698885685}, {\"injured_victims\": 47.83838383838384, \"weibull_pdf_alcohol\": 0.0008116714426321577, \"weibull_pdf_no_alcohol\": 0.0006341535006217963}, {\"injured_victims\": 48.48484848484849, \"weibull_pdf_alcohol\": 0.0008032398465835936, \"weibull_pdf_no_alcohol\": 0.0006260827233481749}, {\"injured_victims\": 49.131313131313135, \"weibull_pdf_alcohol\": 0.0007950062402640191, \"weibull_pdf_no_alcohol\": 0.0006182211719779182}, {\"injured_victims\": 49.77777777777778, \"weibull_pdf_alcohol\": 0.0007869634197543777, \"weibull_pdf_no_alcohol\": 0.0006105607263035219}, {\"injured_victims\": 50.42424242424243, \"weibull_pdf_alcohol\": 0.0007791045339815704, \"weibull_pdf_no_alcohol\": 0.0006030936832649495}, {\"injured_victims\": 51.07070707070707, \"weibull_pdf_alcohol\": 0.0007714230631032526, \"weibull_pdf_no_alcohol\": 0.0005958127304136215}, {\"injured_victims\": 51.71717171717172, \"weibull_pdf_alcohol\": 0.0007639127984755522, \"weibull_pdf_no_alcohol\": 0.0005887109213810714}, {\"injured_victims\": 52.36363636363637, \"weibull_pdf_alcohol\": 0.0007565678240693036, \"weibull_pdf_no_alcohol\": 0.0005817816531775089}, {\"injured_victims\": 53.01010101010102, \"weibull_pdf_alcohol\": 0.0007493824992133454, \"weibull_pdf_no_alcohol\": 0.0005750186451627401}, {\"injured_victims\": 53.65656565656566, \"weibull_pdf_alcohol\": 0.000742351442554974, \"weibull_pdf_no_alcohol\": 0.0005684159195472327}, {\"injured_victims\": 54.303030303030305, \"weibull_pdf_alcohol\": 0.0007354695171379759, \"weibull_pdf_no_alcohol\": 0.0005619677832947825}, {\"injured_victims\": 54.949494949494955, \"weibull_pdf_alcohol\": 0.0007287318165078988, \"weibull_pdf_no_alcohol\": 0.0005556688113104455}, {\"injured_victims\": 55.5959595959596, \"weibull_pdf_alcohol\": 0.0007221336517625176, \"weibull_pdf_no_alcohol\": 0.0005495138308083263}, {\"injured_victims\": 56.24242424242425, \"weibull_pdf_alcohol\": 0.0007156705394728762, \"weibull_pdf_no_alcohol\": 0.0005434979067635784}, {\"injured_victims\": 56.88888888888889, \"weibull_pdf_alcohol\": 0.0007093381904069845, \"weibull_pdf_no_alcohol\": 0.0005376163283617568}, {\"injured_victims\": 57.53535353535354, \"weibull_pdf_alcohol\": 0.0007031324989942563, \"weibull_pdf_no_alcohol\": 0.0005318645963665225}, {\"injured_victims\": 58.18181818181819, \"weibull_pdf_alcohol\": 0.0006970495334742032, \"weibull_pdf_no_alcohol\": 0.0005262384113337858}, {\"injured_victims\": 58.82828282828283, \"weibull_pdf_alcohol\": 0.0006910855266777845, \"weibull_pdf_no_alcohol\": 0.0005207336626067442}, {\"injured_victims\": 59.47474747474748, \"weibull_pdf_alcohol\": 0.0006852368673942356, \"weibull_pdf_no_alcohol\": 0.0005153464180320198}, {\"injured_victims\": 60.121212121212125, \"weibull_pdf_alcohol\": 0.0006795000922801958, \"weibull_pdf_no_alcohol\": 0.0005100729143422733}, {\"injured_victims\": 60.767676767676775, \"weibull_pdf_alcohol\": 0.0006738718782715645, \"weibull_pdf_no_alcohol\": 0.000504909548155367}, {\"injured_victims\": 61.41414141414142, \"weibull_pdf_alcohol\": 0.0006683490354618077, \"weibull_pdf_no_alcohol\": 0.0004998528675443739}, {\"injured_victims\": 62.06060606060606, \"weibull_pdf_alcohol\": 0.0006629285004133986, \"weibull_pdf_no_alcohol\": 0.0004948995641365754}, {\"injured_victims\": 62.70707070707071, \"weibull_pdf_alcohol\": 0.0006576073298717906, \"weibull_pdf_no_alcohol\": 0.0004900464657030524}, {\"injured_victims\": 63.35353535353536, \"weibull_pdf_alcohol\": 0.0006523826948537714, \"weibull_pdf_no_alcohol\": 0.00048529052920364665}, {\"injured_victims\": 64.0, \"weibull_pdf_alcohol\": 0.0006472518750842857, \"weibull_pdf_no_alcohol\": 0.00048062883425491995}]}}, {\"mode\": \"vega-lite\"});\n",
       "</script>"
      ],
      "text/plain": [
       "alt.LayerChart(...)"
      ]
     },
     "metadata": {},
     "output_type": "display_data"
    }
   ],
   "source": [
    "# Generate the Weibull PDF for both alcohol and no alcohol\n",
    "x_values = np.linspace(0, max(injury_distribution['injured_victims']), 100)  # Range for accident counts\n",
    "\n",
    "# Weibull PDFs for each distribution\n",
    "weibull_pdf_alcohol = weibull_min.pdf(x_values, *weibull_params_alcohol)\n",
    "weibull_pdf_no_alcohol = weibull_min.pdf(x_values, *weibull_params_no_alcohol)\n",
    "\n",
    "weibull_df = pd.DataFrame({\n",
    "    'injured_victims': x_values,\n",
    "    'weibull_pdf_alcohol': weibull_pdf_alcohol,\n",
    "    'weibull_pdf_no_alcohol': weibull_pdf_no_alcohol,\n",
    "})\n",
    "\n",
    "# Plot the Weibull PDFs\n",
    "line_chart_alcohol = alt.Chart(weibull_df).mark_line(color='blue').encode(\n",
    "    x='injured_victims:Q',\n",
    "    y='weibull_pdf_alcohol:Q'\n",
    ")\n",
    "\n",
    "line_chart_no_alcohol = alt.Chart(weibull_df).mark_line(color='red').encode(\n",
    "    x='injured_victims:Q',\n",
    "    y='weibull_pdf_no_alcohol:Q'\n",
    ")\n",
    "\n",
    "final_chart = line_chart_alcohol + line_chart_no_alcohol\n",
    "\n",
    "final_chart.show()"
   ]
  },
  {
   "cell_type": "code",
   "execution_count": 11,
   "metadata": {},
   "outputs": [
    {
     "name": "stdout",
     "output_type": "stream",
     "text": [
      "LRT Statistic: 7.975439683993983\n",
      "P-value: 0.018541944518717157\n"
     ]
    }
   ],
   "source": [
    "#Creating a model assuming there is no difference in the distributions of alcohol vs non alcohol\n",
    "# Combine both datasets\n",
    "combined_data = np.concatenate([accident_data_alcohol, accident_data_no_alcohol])\n",
    "\n",
    "# Fit a single Weibull distribution to the combined data\n",
    "weibull_params_combined = weibull_min.fit(combined_data)\n",
    "\n",
    "# Log-likelihood for the combined data assuming same parameters for both\n",
    "log_likelihood_combined = np.sum(np.log(weibull_min.pdf(combined_data, *weibull_params_combined)))\n",
    "\n",
    "# Full model log-likelihood assuming there is a difference\n",
    "log_likelihood_full = weibull_loglik_no_alcohol + weibull_loglik_alcohol\n",
    "\n",
    "# Likelihood Ratio statistic\n",
    "lrt_statistic = -2 * (log_likelihood_combined - log_likelihood_full)\n",
    "\n",
    "df = 2 \n",
    "\n",
    "p_value = 1 - chi2.cdf(lrt_statistic, df)\n",
    "\n",
    "print(f\"LRT Statistic: {lrt_statistic}\")\n",
    "print(f\"P-value: {p_value}\")\n"
   ]
  },
  {
   "cell_type": "markdown",
   "metadata": {},
   "source": [
    "#### Timeline for number of collisions"
   ]
  },
  {
   "cell_type": "code",
   "execution_count": null,
   "metadata": {},
   "outputs": [],
   "source": [
    "# train on up to 2019, predict 2020, compare to actual. This will be done using a time series model."
   ]
  },
  {
   "cell_type": "markdown",
   "metadata": {},
   "source": [
    "#### Timeline for number of collisions (alcohol vs no alcohol)"
   ]
  },
  {
   "cell_type": "code",
   "execution_count": null,
   "metadata": {},
   "outputs": [],
   "source": [
    "# trained on up to 2019, predicting 2020, but separating by alcohol vs. no alcohol and comparing to actuals. This will also be completed using a time series model"
   ]
  },
  {
   "cell_type": "markdown",
   "metadata": {},
   "source": [
    "#### Feature selection using Random Forest feature importance against several labels"
   ]
  },
  {
   "cell_type": "code",
   "execution_count": 15,
   "metadata": {},
   "outputs": [
    {
     "ename": "AttributeError",
     "evalue": "'int' object has no attribute 'copy'",
     "output_type": "error",
     "traceback": [
      "\u001b[0;31m---------------------------------------------------------------------------\u001b[0m",
      "\u001b[0;31mAttributeError\u001b[0m                            Traceback (most recent call last)",
      "Cell \u001b[0;32mIn[15], line 1\u001b[0m\n\u001b[0;32m----> 1\u001b[0m dfrf \u001b[38;5;241m=\u001b[39m df\u001b[38;5;241m.\u001b[39mcopy()\n\u001b[1;32m      3\u001b[0m dfrf[\u001b[38;5;124m\"\u001b[39m\u001b[38;5;124mminute\u001b[39m\u001b[38;5;124m\"\u001b[39m] \u001b[38;5;241m=\u001b[39m pd\u001b[38;5;241m.\u001b[39mto_datetime(df[\u001b[38;5;124m\"\u001b[39m\u001b[38;5;124mcollision_time\u001b[39m\u001b[38;5;124m\"\u001b[39m], \u001b[38;5;28mformat\u001b[39m \u001b[38;5;241m=\u001b[39m \u001b[38;5;124m\"\u001b[39m\u001b[38;5;124m%\u001b[39m\u001b[38;5;124mH:\u001b[39m\u001b[38;5;124m%\u001b[39m\u001b[38;5;124mM:\u001b[39m\u001b[38;5;124m%\u001b[39m\u001b[38;5;124mS\u001b[39m\u001b[38;5;124m\"\u001b[39m)\u001b[38;5;241m.\u001b[39mdt\u001b[38;5;241m.\u001b[39mminute\n\u001b[1;32m      4\u001b[0m dfrf[\u001b[38;5;124m\"\u001b[39m\u001b[38;5;124mday\u001b[39m\u001b[38;5;124m\"\u001b[39m] \u001b[38;5;241m=\u001b[39m pd\u001b[38;5;241m.\u001b[39mto_datetime(df[\u001b[38;5;124m\"\u001b[39m\u001b[38;5;124mcollision_time\u001b[39m\u001b[38;5;124m\"\u001b[39m], \u001b[38;5;28mformat\u001b[39m \u001b[38;5;241m=\u001b[39m \u001b[38;5;124m\"\u001b[39m\u001b[38;5;124m%\u001b[39m\u001b[38;5;124mH:\u001b[39m\u001b[38;5;124m%\u001b[39m\u001b[38;5;124mM:\u001b[39m\u001b[38;5;124m%\u001b[39m\u001b[38;5;124mS\u001b[39m\u001b[38;5;124m\"\u001b[39m)\u001b[38;5;241m.\u001b[39mdt\u001b[38;5;241m.\u001b[39mday_of_year\n",
      "\u001b[0;31mAttributeError\u001b[0m: 'int' object has no attribute 'copy'"
     ]
    }
   ],
   "source": [
    "dfrf = df.copy()\n",
    "\n",
    "dfrf[\"minute\"] = pd.to_datetime(df[\"collision_time\"], format = \"%H:%M:%S\").dt.minute\n",
    "dfrf[\"day\"] = pd.to_datetime(df[\"collision_time\"], format = \"%H:%M:%S\").dt.day_of_year\n",
    "\n",
    "\n",
    "drop_feats = [\"collision_severity\", \"killed_victims\", \"injured_victims\", \"severe_injury_count\",\n",
    "              \"other_visible_injury_count\", \"complaint_of_pain_injury_count\", \"pedestrian_killed_count\", \"pedestrian_injured_count\",\n",
    "              \"bicyclist_killed_count\", \"bicyclist_injured_count\", \"motorcyclist_killed_count\", \"motorcyclist_injured_count\",\n",
    "              \"case_id\", \"process_date\", \"hour\", \"collision_date\", \"process_date\", \"collision_time\",\n",
    "              \"city_division_lapd\", \"caltrans_county\", \"caltrans_district\", \"state_route\", \"postmile\"]\n",
    "\n",
    "dfnan = pd.DataFrame()\n",
    "dfnan[\"predictor\"] = (dfrf.isna().sum() / dfrf.isna().count()).sort_values().index\n",
    "dfnan[\"p_nan\"] = (dfrf.isna().sum() / dfrf.isna().count()).sort_values().values\n",
    "\n",
    "drop_nans = dfnan.query(\"p_nan > 0.8\")[\"predictor\"] # drop features that are more than 80 % nan\n",
    "\n",
    "X = dfrf.drop(drop_feats, axis = 1).drop(drop_nans, axis = 1).convert_dtypes()\n",
    "\n",
    "numcols = []\n",
    "for column in X:\n",
    "    if X[column].dtype != \"string[python]\":\n",
    "        numcols.append(column)\n",
    "badnumcols = [column for column in numcols if column not in [\"distance\", \"party_count\", \"latitude\", \"longitude\", \"year\", \"minute\", \"day\"]] # only keep these ones as numeric\n",
    "X[badnumcols] = X[badnumcols].astype(\"string[python]\")\n",
    "\n",
    "badcats = [column for column in X if X[column].nunique() > 100 and X[column].dtype == \"string[python]\"]\n",
    "X = X.drop(badcats, axis = 1) # drop categorical features with more than 100 unique groups"
   ]
  },
  {
   "cell_type": "code",
   "execution_count": 7,
   "metadata": {},
   "outputs": [],
   "source": [
    "# finding number of unique groups for categorical features\n",
    "\n",
    "strcolumns = []\n",
    "for column in X:\n",
    "    if X[column].dtype == \"string[python]\":\n",
    "        strcolumns.append(column)\n",
    "\n",
    "columns, uniques = [], []\n",
    "\n",
    "for column in strcolumns:\n",
    "    columns.append(column)\n",
    "    uniques.append(len(X[column].value_counts()))\n",
    "                   \n",
    "opdf = pd.DataFrame({\"column\": columns, \"unique\": uniques})\n",
    "\n",
    "badcats = opdf.query(\"unique > 100\")[\"column\"].values\n",
    "uns = opdf.sort_values(\"unique\", ascending = False)"
   ]
  },
  {
   "cell_type": "code",
   "execution_count": 27,
   "metadata": {},
   "outputs": [
    {
     "ename": "ValueError",
     "evalue": "Input X contains NaN.\nRandomForestRegressor does not accept missing values encoded as NaN natively. For supervised learning, you might want to consider sklearn.ensemble.HistGradientBoostingClassifier and Regressor which accept missing values encoded as NaNs natively. Alternatively, it is possible to preprocess the data, for instance by using an imputer transformer in a pipeline or drop samples with missing values. See https://scikit-learn.org/stable/modules/impute.html You can find a list of all estimators that handle NaN values at the following page: https://scikit-learn.org/stable/modules/impute.html#estimators-that-handle-nan-values",
     "output_type": "error",
     "traceback": [
      "\u001b[0;31m---------------------------------------------------------------------------\u001b[0m",
      "\u001b[0;31mValueError\u001b[0m                                Traceback (most recent call last)",
      "Cell \u001b[0;32mIn[27], line 8\u001b[0m\n\u001b[1;32m      4\u001b[0m X_tr, X_te, y_tr, y_te \u001b[38;5;241m=\u001b[39m train_test_split(Xoh, y, random_state \u001b[38;5;241m=\u001b[39m \u001b[38;5;241m13\u001b[39m)\n\u001b[1;32m      6\u001b[0m rf \u001b[38;5;241m=\u001b[39m RandomForestRegressor(n_estimators \u001b[38;5;241m=\u001b[39m \u001b[38;5;241m10\u001b[39m, random_state \u001b[38;5;241m=\u001b[39m \u001b[38;5;241m13\u001b[39m)\n\u001b[0;32m----> 8\u001b[0m rff \u001b[38;5;241m=\u001b[39m rf\u001b[38;5;241m.\u001b[39mfit(X_tr, y_tr)\n\u001b[1;32m     10\u001b[0m rfpred \u001b[38;5;241m=\u001b[39m rff\u001b[38;5;241m.\u001b[39mpredict(X_te)\n\u001b[1;32m     12\u001b[0m \u001b[38;5;28mprint\u001b[39m(\u001b[38;5;124m\"\u001b[39m\u001b[38;5;124mRMSE: \u001b[39m\u001b[38;5;132;01m%.3f\u001b[39;00m\u001b[38;5;124m\"\u001b[39m \u001b[38;5;241m%\u001b[39m (np\u001b[38;5;241m.\u001b[39msqrt(mean_squared_error(y_te, rfpred))))\n",
      "File \u001b[0;32m/opt/anaconda3/lib/python3.11/site-packages/sklearn/ensemble/_forest.py:345\u001b[0m, in \u001b[0;36mBaseForest.fit\u001b[0;34m(self, X, y, sample_weight)\u001b[0m\n\u001b[1;32m    343\u001b[0m \u001b[38;5;28;01mif\u001b[39;00m issparse(y):\n\u001b[1;32m    344\u001b[0m     \u001b[38;5;28;01mraise\u001b[39;00m \u001b[38;5;167;01mValueError\u001b[39;00m(\u001b[38;5;124m\"\u001b[39m\u001b[38;5;124msparse multilabel-indicator for y is not supported.\u001b[39m\u001b[38;5;124m\"\u001b[39m)\n\u001b[0;32m--> 345\u001b[0m X, y \u001b[38;5;241m=\u001b[39m \u001b[38;5;28mself\u001b[39m\u001b[38;5;241m.\u001b[39m_validate_data(\n\u001b[1;32m    346\u001b[0m     X, y, multi_output\u001b[38;5;241m=\u001b[39m\u001b[38;5;28;01mTrue\u001b[39;00m, accept_sparse\u001b[38;5;241m=\u001b[39m\u001b[38;5;124m\"\u001b[39m\u001b[38;5;124mcsc\u001b[39m\u001b[38;5;124m\"\u001b[39m, dtype\u001b[38;5;241m=\u001b[39mDTYPE\n\u001b[1;32m    347\u001b[0m )\n\u001b[1;32m    348\u001b[0m \u001b[38;5;28;01mif\u001b[39;00m sample_weight \u001b[38;5;129;01mis\u001b[39;00m \u001b[38;5;129;01mnot\u001b[39;00m \u001b[38;5;28;01mNone\u001b[39;00m:\n\u001b[1;32m    349\u001b[0m     sample_weight \u001b[38;5;241m=\u001b[39m _check_sample_weight(sample_weight, X)\n",
      "File \u001b[0;32m/opt/anaconda3/lib/python3.11/site-packages/sklearn/base.py:584\u001b[0m, in \u001b[0;36mBaseEstimator._validate_data\u001b[0;34m(self, X, y, reset, validate_separately, **check_params)\u001b[0m\n\u001b[1;32m    582\u001b[0m         y \u001b[38;5;241m=\u001b[39m check_array(y, input_name\u001b[38;5;241m=\u001b[39m\u001b[38;5;124m\"\u001b[39m\u001b[38;5;124my\u001b[39m\u001b[38;5;124m\"\u001b[39m, \u001b[38;5;241m*\u001b[39m\u001b[38;5;241m*\u001b[39mcheck_y_params)\n\u001b[1;32m    583\u001b[0m     \u001b[38;5;28;01melse\u001b[39;00m:\n\u001b[0;32m--> 584\u001b[0m         X, y \u001b[38;5;241m=\u001b[39m check_X_y(X, y, \u001b[38;5;241m*\u001b[39m\u001b[38;5;241m*\u001b[39mcheck_params)\n\u001b[1;32m    585\u001b[0m     out \u001b[38;5;241m=\u001b[39m X, y\n\u001b[1;32m    587\u001b[0m \u001b[38;5;28;01mif\u001b[39;00m \u001b[38;5;129;01mnot\u001b[39;00m no_val_X \u001b[38;5;129;01mand\u001b[39;00m check_params\u001b[38;5;241m.\u001b[39mget(\u001b[38;5;124m\"\u001b[39m\u001b[38;5;124mensure_2d\u001b[39m\u001b[38;5;124m\"\u001b[39m, \u001b[38;5;28;01mTrue\u001b[39;00m):\n",
      "File \u001b[0;32m/opt/anaconda3/lib/python3.11/site-packages/sklearn/utils/validation.py:1106\u001b[0m, in \u001b[0;36mcheck_X_y\u001b[0;34m(X, y, accept_sparse, accept_large_sparse, dtype, order, copy, force_all_finite, ensure_2d, allow_nd, multi_output, ensure_min_samples, ensure_min_features, y_numeric, estimator)\u001b[0m\n\u001b[1;32m   1101\u001b[0m         estimator_name \u001b[38;5;241m=\u001b[39m _check_estimator_name(estimator)\n\u001b[1;32m   1102\u001b[0m     \u001b[38;5;28;01mraise\u001b[39;00m \u001b[38;5;167;01mValueError\u001b[39;00m(\n\u001b[1;32m   1103\u001b[0m         \u001b[38;5;124mf\u001b[39m\u001b[38;5;124m\"\u001b[39m\u001b[38;5;132;01m{\u001b[39;00mestimator_name\u001b[38;5;132;01m}\u001b[39;00m\u001b[38;5;124m requires y to be passed, but the target y is None\u001b[39m\u001b[38;5;124m\"\u001b[39m\n\u001b[1;32m   1104\u001b[0m     )\n\u001b[0;32m-> 1106\u001b[0m X \u001b[38;5;241m=\u001b[39m check_array(\n\u001b[1;32m   1107\u001b[0m     X,\n\u001b[1;32m   1108\u001b[0m     accept_sparse\u001b[38;5;241m=\u001b[39maccept_sparse,\n\u001b[1;32m   1109\u001b[0m     accept_large_sparse\u001b[38;5;241m=\u001b[39maccept_large_sparse,\n\u001b[1;32m   1110\u001b[0m     dtype\u001b[38;5;241m=\u001b[39mdtype,\n\u001b[1;32m   1111\u001b[0m     order\u001b[38;5;241m=\u001b[39morder,\n\u001b[1;32m   1112\u001b[0m     copy\u001b[38;5;241m=\u001b[39mcopy,\n\u001b[1;32m   1113\u001b[0m     force_all_finite\u001b[38;5;241m=\u001b[39mforce_all_finite,\n\u001b[1;32m   1114\u001b[0m     ensure_2d\u001b[38;5;241m=\u001b[39mensure_2d,\n\u001b[1;32m   1115\u001b[0m     allow_nd\u001b[38;5;241m=\u001b[39mallow_nd,\n\u001b[1;32m   1116\u001b[0m     ensure_min_samples\u001b[38;5;241m=\u001b[39mensure_min_samples,\n\u001b[1;32m   1117\u001b[0m     ensure_min_features\u001b[38;5;241m=\u001b[39mensure_min_features,\n\u001b[1;32m   1118\u001b[0m     estimator\u001b[38;5;241m=\u001b[39mestimator,\n\u001b[1;32m   1119\u001b[0m     input_name\u001b[38;5;241m=\u001b[39m\u001b[38;5;124m\"\u001b[39m\u001b[38;5;124mX\u001b[39m\u001b[38;5;124m\"\u001b[39m,\n\u001b[1;32m   1120\u001b[0m )\n\u001b[1;32m   1122\u001b[0m y \u001b[38;5;241m=\u001b[39m _check_y(y, multi_output\u001b[38;5;241m=\u001b[39mmulti_output, y_numeric\u001b[38;5;241m=\u001b[39my_numeric, estimator\u001b[38;5;241m=\u001b[39mestimator)\n\u001b[1;32m   1124\u001b[0m check_consistent_length(X, y)\n",
      "File \u001b[0;32m/opt/anaconda3/lib/python3.11/site-packages/sklearn/utils/validation.py:921\u001b[0m, in \u001b[0;36mcheck_array\u001b[0;34m(array, accept_sparse, accept_large_sparse, dtype, order, copy, force_all_finite, ensure_2d, allow_nd, ensure_min_samples, ensure_min_features, estimator, input_name)\u001b[0m\n\u001b[1;32m    915\u001b[0m         \u001b[38;5;28;01mraise\u001b[39;00m \u001b[38;5;167;01mValueError\u001b[39;00m(\n\u001b[1;32m    916\u001b[0m             \u001b[38;5;124m\"\u001b[39m\u001b[38;5;124mFound array with dim \u001b[39m\u001b[38;5;132;01m%d\u001b[39;00m\u001b[38;5;124m. \u001b[39m\u001b[38;5;132;01m%s\u001b[39;00m\u001b[38;5;124m expected <= 2.\u001b[39m\u001b[38;5;124m\"\u001b[39m\n\u001b[1;32m    917\u001b[0m             \u001b[38;5;241m%\u001b[39m (array\u001b[38;5;241m.\u001b[39mndim, estimator_name)\n\u001b[1;32m    918\u001b[0m         )\n\u001b[1;32m    920\u001b[0m     \u001b[38;5;28;01mif\u001b[39;00m force_all_finite:\n\u001b[0;32m--> 921\u001b[0m         _assert_all_finite(\n\u001b[1;32m    922\u001b[0m             array,\n\u001b[1;32m    923\u001b[0m             input_name\u001b[38;5;241m=\u001b[39minput_name,\n\u001b[1;32m    924\u001b[0m             estimator_name\u001b[38;5;241m=\u001b[39mestimator_name,\n\u001b[1;32m    925\u001b[0m             allow_nan\u001b[38;5;241m=\u001b[39mforce_all_finite \u001b[38;5;241m==\u001b[39m \u001b[38;5;124m\"\u001b[39m\u001b[38;5;124mallow-nan\u001b[39m\u001b[38;5;124m\"\u001b[39m,\n\u001b[1;32m    926\u001b[0m         )\n\u001b[1;32m    928\u001b[0m \u001b[38;5;28;01mif\u001b[39;00m ensure_min_samples \u001b[38;5;241m>\u001b[39m \u001b[38;5;241m0\u001b[39m:\n\u001b[1;32m    929\u001b[0m     n_samples \u001b[38;5;241m=\u001b[39m _num_samples(array)\n",
      "File \u001b[0;32m/opt/anaconda3/lib/python3.11/site-packages/sklearn/utils/validation.py:161\u001b[0m, in \u001b[0;36m_assert_all_finite\u001b[0;34m(X, allow_nan, msg_dtype, estimator_name, input_name)\u001b[0m\n\u001b[1;32m    144\u001b[0m \u001b[38;5;28;01mif\u001b[39;00m estimator_name \u001b[38;5;129;01mand\u001b[39;00m input_name \u001b[38;5;241m==\u001b[39m \u001b[38;5;124m\"\u001b[39m\u001b[38;5;124mX\u001b[39m\u001b[38;5;124m\"\u001b[39m \u001b[38;5;129;01mand\u001b[39;00m has_nan_error:\n\u001b[1;32m    145\u001b[0m     \u001b[38;5;66;03m# Improve the error message on how to handle missing values in\u001b[39;00m\n\u001b[1;32m    146\u001b[0m     \u001b[38;5;66;03m# scikit-learn.\u001b[39;00m\n\u001b[1;32m    147\u001b[0m     msg_err \u001b[38;5;241m+\u001b[39m\u001b[38;5;241m=\u001b[39m (\n\u001b[1;32m    148\u001b[0m         \u001b[38;5;124mf\u001b[39m\u001b[38;5;124m\"\u001b[39m\u001b[38;5;130;01m\\n\u001b[39;00m\u001b[38;5;132;01m{\u001b[39;00mestimator_name\u001b[38;5;132;01m}\u001b[39;00m\u001b[38;5;124m does not accept missing values\u001b[39m\u001b[38;5;124m\"\u001b[39m\n\u001b[1;32m    149\u001b[0m         \u001b[38;5;124m\"\u001b[39m\u001b[38;5;124m encoded as NaN natively. For supervised learning, you might want\u001b[39m\u001b[38;5;124m\"\u001b[39m\n\u001b[0;32m   (...)\u001b[0m\n\u001b[1;32m    159\u001b[0m         \u001b[38;5;124m\"\u001b[39m\u001b[38;5;124m#estimators-that-handle-nan-values\u001b[39m\u001b[38;5;124m\"\u001b[39m\n\u001b[1;32m    160\u001b[0m     )\n\u001b[0;32m--> 161\u001b[0m \u001b[38;5;28;01mraise\u001b[39;00m \u001b[38;5;167;01mValueError\u001b[39;00m(msg_err)\n",
      "\u001b[0;31mValueError\u001b[0m: Input X contains NaN.\nRandomForestRegressor does not accept missing values encoded as NaN natively. For supervised learning, you might want to consider sklearn.ensemble.HistGradientBoostingClassifier and Regressor which accept missing values encoded as NaNs natively. Alternatively, it is possible to preprocess the data, for instance by using an imputer transformer in a pipeline or drop samples with missing values. See https://scikit-learn.org/stable/modules/impute.html You can find a list of all estimators that handle NaN values at the following page: https://scikit-learn.org/stable/modules/impute.html#estimators-that-handle-nan-values"
     ]
    }
   ],
   "source": [
    "Xoh = pd.get_dummies(X)\n",
    "y = dfrf[\"injured_victims\"].fillna(0)\n",
    "\n",
    "X_tr, X_te, y_tr, y_te = train_test_split(Xoh, y, random_state = 13)\n",
    "\n",
    "rf = RandomForestRegressor(n_estimators = 10, random_state = 13)\n",
    "\n",
    "rff = rf.fit(X_tr, y_tr)\n",
    "\n",
    "rfpred = rff.predict(X_te)\n",
    "\n",
    "print(\"RMSE: %.3f\" % (np.sqrt(mean_squared_error(y_te, rfpred))))\n",
    "print(\"Proportion correct: %.3f \"% ((y_te == rfpred.astype(int)).mean()))\n",
    "\n",
    "pd.DataFrame({\"feature\": rff.feature_names_in_, \"importance\": rff.feature_importances_}).sort_values(\"importance\", ascending = False).head(20)"
   ]
  },
  {
   "cell_type": "code",
   "execution_count": null,
   "metadata": {},
   "outputs": [],
   "source": [
    "Xoh2 = pd.get_dummies(X.drop(\"party_count\", axis = 1))\n",
    "y2 = dfrf[\"injured_victims\"].fillna(0) / dfrf[\"party_count\"].fillna(1) # repeating this time using the injuries per party involved\n",
    "\n",
    "X2_tr, X2_te, y2_tr, y2_te = train_test_split(Xoh2, y2, random_state = 13)\n",
    "\n",
    "rf2 = RandomForestRegressor(n_estimators = 10, random_state = 13)\n",
    "\n",
    "rff2 = rf2.fit(X2_tr, y2_tr)\n",
    "\n",
    "rfpred2 = rff2.predict(X2_te)\n",
    "\n",
    "print(\"RMSE: %.3f\" % (np.sqrt(mean_squared_error(y2_te, rfpred2))))\n",
    "print(\"Proportion correct: %.3f \"% ((y2_te == rfpred2.astype(int)).mean()))\n",
    "\n",
    "pd.DataFrame({\"feature\": rff2.feature_names_in_, \"importance\": rff2.feature_importances_}).sort_values(\"importance\", ascending = False).head(20)"
   ]
  },
  {
   "cell_type": "code",
   "execution_count": null,
   "metadata": {},
   "outputs": [],
   "source": [
    "Xoh3 = pd.get_dummies(X)\n",
    "y3 = dfrf[\"collision_severity\"] # repeating this time using categorical label\n",
    "\n",
    "X3_tr, X3_te, y3_tr, y3_te = train_test_split(Xoh3, y3, random_state = 13)\n",
    "\n",
    "rf3 = RandomForestClassifier(n_estimators = 10, random_state = 13)\n",
    "\n",
    "rff3 = rf3.fit(X3_tr, y3_tr)\n",
    "\n",
    "rfpred3 = rff3.predict(X3_te)\n",
    "\n",
    "print(\"Proportion correct: %.3f \"% ((y3_te == rfpred3).mean()))\n",
    "\n",
    "cf3 = confusion_matrix(y3_te, rfpred3)\n",
    "\n",
    "cmp3 = ConfusionMatrixDisplay(confusion_matrix=cf3, display_labels=True)\n",
    "\n",
    "fig, ax = plt.subplots(figsize=(10,10))\n",
    "cmp3.plot(ax=ax)\n",
    "\n",
    "pd.DataFrame({\"feature\": rff3.feature_names_in_, \"importance\": rff3.feature_importances_}).sort_values(\"importance\", ascending = False).head(20)"
   ]
  },
  {
   "cell_type": "markdown",
   "metadata": {},
   "source": [
    "#### Feature selection using LASSO on fitted GLM against several labels"
   ]
  },
  {
   "cell_type": "code",
   "execution_count": null,
   "metadata": {},
   "outputs": [],
   "source": []
  },
  {
   "cell_type": "code",
   "execution_count": null,
   "metadata": {},
   "outputs": [],
   "source": []
  }
 ],
 "metadata": {
  "kernelspec": {
   "display_name": "Python 3",
   "language": "python",
   "name": "python3"
  },
  "language_info": {
   "codemirror_mode": {
    "name": "ipython",
    "version": 3
   },
   "file_extension": ".py",
   "mimetype": "text/x-python",
   "name": "python",
   "nbconvert_exporter": "python",
   "pygments_lexer": "ipython3",
   "version": "3.11.11"
  }
 },
 "nbformat": 4,
 "nbformat_minor": 4
}
